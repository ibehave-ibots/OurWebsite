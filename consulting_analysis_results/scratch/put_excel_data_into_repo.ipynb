{
 "cells": [
  {
   "cell_type": "code",
   "execution_count": 1,
   "metadata": {},
   "outputs": [],
   "source": [
    "%load_ext autoreload\n",
    "%autoreload 2"
   ]
  },
  {
   "cell_type": "code",
   "execution_count": 17,
   "metadata": {},
   "outputs": [],
   "source": [
    "import os\n",
    "\n",
    "from webdav4.fsspec import WebdavFileSystem\n",
    "from fsspec.implementations.local import LocalFileSystem\n",
    "import pandas as pd\n",
    "from dotenv import load_dotenv\n",
    "\n",
    "from results_repo import ConsultingResultRepo"
   ]
  },
  {
   "cell_type": "markdown",
   "metadata": {},
   "source": [
    "## Connect to Sciebo Repo"
   ]
  },
  {
   "cell_type": "code",
   "execution_count": 3,
   "metadata": {},
   "outputs": [
    {
     "data": {
      "text/plain": [
       "ConsultingResultRepo(path=<webdav4.fsspec.WebdavFileSystem object at 0x0000020F1CDC1F70>)"
      ]
     },
     "execution_count": 3,
     "metadata": {},
     "output_type": "execute_result"
    }
   ],
   "source": [
    "load_dotenv()\n",
    "USR = os.getenv('USR')\n",
    "fs = WebdavFileSystem(\"https://uni-bonn.sciebo.de/public.php/webdav\", auth=(USR, \"\"))\n",
    "\n",
    "repo = ConsultingResultRepo.connect(fs)\n",
    "repo"
   ]
  },
  {
   "cell_type": "markdown",
   "metadata": {},
   "source": [
    "## Get Results from Excel File"
   ]
  },
  {
   "cell_type": "code",
   "execution_count": 4,
   "metadata": {},
   "outputs": [
    {
     "data": {
      "text/html": [
       "<div>\n",
       "<style scoped>\n",
       "    .dataframe tbody tr th:only-of-type {\n",
       "        vertical-align: middle;\n",
       "    }\n",
       "\n",
       "    .dataframe tbody tr th {\n",
       "        vertical-align: top;\n",
       "    }\n",
       "\n",
       "    .dataframe thead th {\n",
       "        text-align: right;\n",
       "    }\n",
       "</style>\n",
       "<table border=\"1\" class=\"dataframe\">\n",
       "  <thead>\n",
       "    <tr style=\"text-align: right;\">\n",
       "      <th></th>\n",
       "      <th>short_name</th>\n",
       "      <th>name</th>\n",
       "      <th>value</th>\n",
       "      <th>units</th>\n",
       "      <th>display_units</th>\n",
       "    </tr>\n",
       "  </thead>\n",
       "  <tbody>\n",
       "    <tr>\n",
       "      <th>0</th>\n",
       "      <td>num_researchers</td>\n",
       "      <td>Number of researchers</td>\n",
       "      <td>29.0</td>\n",
       "      <td>Researcher</td>\n",
       "      <td>Researcher</td>\n",
       "    </tr>\n",
       "    <tr>\n",
       "      <th>1</th>\n",
       "      <td>num_sessions</td>\n",
       "      <td>Number of sessions</td>\n",
       "      <td>119.0</td>\n",
       "      <td>Session</td>\n",
       "      <td>Session</td>\n",
       "    </tr>\n",
       "    <tr>\n",
       "      <th>2</th>\n",
       "      <td>total_consulting_hours</td>\n",
       "      <td>Total consulting time</td>\n",
       "      <td>191.0</td>\n",
       "      <td>Hour</td>\n",
       "      <td>Hrs</td>\n",
       "    </tr>\n",
       "    <tr>\n",
       "      <th>3</th>\n",
       "      <td>average_consulting_hours_per_consultant</td>\n",
       "      <td>Average consulting time per consultant</td>\n",
       "      <td>37.6</td>\n",
       "      <td>Hour</td>\n",
       "      <td>Hrs</td>\n",
       "    </tr>\n",
       "    <tr>\n",
       "      <th>4</th>\n",
       "      <td>num_groups</td>\n",
       "      <td>Number of research groups</td>\n",
       "      <td>12.0</td>\n",
       "      <td>Group</td>\n",
       "      <td>Group</td>\n",
       "    </tr>\n",
       "    <tr>\n",
       "      <th>5</th>\n",
       "      <td>average_collaboration_hours</td>\n",
       "      <td>Average collaboration time</td>\n",
       "      <td>5.0</td>\n",
       "      <td>Hour</td>\n",
       "      <td>Hrs</td>\n",
       "    </tr>\n",
       "    <tr>\n",
       "      <th>6</th>\n",
       "      <td>num_extended_collaborations</td>\n",
       "      <td>Number of extended collaborations</td>\n",
       "      <td>17.0</td>\n",
       "      <td>Researcher</td>\n",
       "      <td>Researcher</td>\n",
       "    </tr>\n",
       "  </tbody>\n",
       "</table>\n",
       "</div>"
      ],
      "text/plain": [
       "                                short_name  \\\n",
       "0                          num_researchers   \n",
       "1                             num_sessions   \n",
       "2                   total_consulting_hours   \n",
       "3  average_consulting_hours_per_consultant   \n",
       "4                               num_groups   \n",
       "5              average_collaboration_hours   \n",
       "6              num_extended_collaborations   \n",
       "\n",
       "                                     name  value       units display_units  \n",
       "0                   Number of researchers   29.0  Researcher    Researcher  \n",
       "1                      Number of sessions  119.0     Session       Session  \n",
       "2                   Total consulting time  191.0        Hour           Hrs  \n",
       "3  Average consulting time per consultant   37.6        Hour           Hrs  \n",
       "4               Number of research groups   12.0       Group         Group  \n",
       "5              Average collaboration time    5.0        Hour           Hrs  \n",
       "6       Number of extended collaborations   17.0  Researcher    Researcher  "
      ]
     },
     "execution_count": 4,
     "metadata": {},
     "output_type": "execute_result"
    }
   ],
   "source": [
    "df = pd.read_excel('../data/consulting_stats.xlsx')\n",
    "df"
   ]
  },
  {
   "cell_type": "code",
   "execution_count": 5,
   "metadata": {},
   "outputs": [],
   "source": [
    "os.environ['DB_WRITEMODE'] = '1'"
   ]
  },
  {
   "cell_type": "code",
   "execution_count": 6,
   "metadata": {},
   "outputs": [],
   "source": [
    "for _, row in df.iterrows():\n",
    "    repo.put(**dict(row))"
   ]
  },
  {
   "cell_type": "code",
   "execution_count": 7,
   "metadata": {},
   "outputs": [
    {
     "data": {
      "text/plain": [
       "[{'short_name': 'num_researchers',\n",
       "  'name': 'Number of researchers',\n",
       "  'value': 29.0,\n",
       "  'units': 'Researcher',\n",
       "  'display_units': 'Researcher'},\n",
       " {'short_name': 'num_sessions',\n",
       "  'name': 'Number of sessions',\n",
       "  'value': 119.0,\n",
       "  'units': 'Session',\n",
       "  'display_units': 'Session'},\n",
       " {'short_name': 'total_consulting_hours',\n",
       "  'name': 'Total consulting time',\n",
       "  'value': 191.0,\n",
       "  'units': 'Hour',\n",
       "  'display_units': 'Hrs'},\n",
       " {'short_name': 'average_consulting_hours_per_consultant',\n",
       "  'name': 'Average consulting time per consultant',\n",
       "  'value': 37.6,\n",
       "  'units': 'Hour',\n",
       "  'display_units': 'Hrs'},\n",
       " {'short_name': 'num_groups',\n",
       "  'name': 'Number of research groups',\n",
       "  'value': 12.0,\n",
       "  'units': 'Group',\n",
       "  'display_units': 'Group'},\n",
       " {'short_name': 'average_collaboration_hours',\n",
       "  'name': 'Average collaboration time',\n",
       "  'value': 5.0,\n",
       "  'units': 'Hour',\n",
       "  'display_units': 'Hrs'},\n",
       " {'short_name': 'num_extended_collaborations',\n",
       "  'name': 'Number of extended collaborations',\n",
       "  'value': 17.0,\n",
       "  'units': 'Researcher',\n",
       "  'display_units': 'Researcher'}]"
      ]
     },
     "execution_count": 7,
     "metadata": {},
     "output_type": "execute_result"
    }
   ],
   "source": [
    "repo.list()"
   ]
  },
  {
   "cell_type": "code",
   "execution_count": 8,
   "metadata": {},
   "outputs": [
    {
     "data": {
      "text/plain": [
       "{'short_name': 'num_researchers',\n",
       " 'name': 'Number of researchers',\n",
       " 'value': 29.0,\n",
       " 'units': 'Researcher',\n",
       " 'display_units': 'Researcher'}"
      ]
     },
     "execution_count": 8,
     "metadata": {},
     "output_type": "execute_result"
    }
   ],
   "source": [
    "repo.get('num_researchers')"
   ]
  },
  {
   "cell_type": "code",
   "execution_count": 9,
   "metadata": {},
   "outputs": [],
   "source": [
    "repo.remove('num_researchers')"
   ]
  },
  {
   "cell_type": "code",
   "execution_count": 10,
   "metadata": {},
   "outputs": [
    {
     "data": {
      "text/plain": [
       "[{'short_name': 'num_sessions',\n",
       "  'name': 'Number of sessions',\n",
       "  'value': 119.0,\n",
       "  'units': 'Session',\n",
       "  'display_units': 'Session'},\n",
       " {'short_name': 'total_consulting_hours',\n",
       "  'name': 'Total consulting time',\n",
       "  'value': 191.0,\n",
       "  'units': 'Hour',\n",
       "  'display_units': 'Hrs'},\n",
       " {'short_name': 'average_consulting_hours_per_consultant',\n",
       "  'name': 'Average consulting time per consultant',\n",
       "  'value': 37.6,\n",
       "  'units': 'Hour',\n",
       "  'display_units': 'Hrs'},\n",
       " {'short_name': 'num_groups',\n",
       "  'name': 'Number of research groups',\n",
       "  'value': 12.0,\n",
       "  'units': 'Group',\n",
       "  'display_units': 'Group'},\n",
       " {'short_name': 'average_collaboration_hours',\n",
       "  'name': 'Average collaboration time',\n",
       "  'value': 5.0,\n",
       "  'units': 'Hour',\n",
       "  'display_units': 'Hrs'},\n",
       " {'short_name': 'num_extended_collaborations',\n",
       "  'name': 'Number of extended collaborations',\n",
       "  'value': 17.0,\n",
       "  'units': 'Researcher',\n",
       "  'display_units': 'Researcher'}]"
      ]
     },
     "execution_count": 10,
     "metadata": {},
     "output_type": "execute_result"
    }
   ],
   "source": [
    "repo.list()"
   ]
  },
  {
   "cell_type": "code",
   "execution_count": 11,
   "metadata": {},
   "outputs": [
    {
     "ename": "KeyError",
     "evalue": "'num_researchers'",
     "output_type": "error",
     "traceback": [
      "\u001b[1;31m---------------------------------------------------------------------------\u001b[0m",
      "\u001b[1;31mKeyError\u001b[0m                                  Traceback (most recent call last)",
      "Cell \u001b[1;32mIn[11], line 1\u001b[0m\n\u001b[1;32m----> 1\u001b[0m \u001b[43mrepo\u001b[49m\u001b[38;5;241;43m.\u001b[39;49m\u001b[43mget\u001b[49m\u001b[43m(\u001b[49m\u001b[38;5;124;43m'\u001b[39;49m\u001b[38;5;124;43mnum_researchers\u001b[39;49m\u001b[38;5;124;43m'\u001b[39;49m\u001b[43m)\u001b[49m\n",
      "File \u001b[1;32m~\\OurWebsite\\consulting_analysis_results\\src\\results_repo\\consulting_repo.py:77\u001b[0m, in \u001b[0;36mConsultingResultRepo.get\u001b[1;34m(self, s_name)\u001b[0m\n\u001b[0;32m     75\u001b[0m \u001b[38;5;28;01mdef\u001b[39;00m \u001b[38;5;21mget\u001b[39m(\u001b[38;5;28mself\u001b[39m, s_name: \u001b[38;5;28mstr\u001b[39m) \u001b[38;5;241m-\u001b[39m\u001b[38;5;241m>\u001b[39m ResultDict:\n\u001b[0;32m     76\u001b[0m     results \u001b[38;5;241m=\u001b[39m \u001b[38;5;28mself\u001b[39m\u001b[38;5;241m.\u001b[39m_consulting_results\n\u001b[1;32m---> 77\u001b[0m     result: ResultDict \u001b[38;5;241m=\u001b[39m \u001b[43mresults\u001b[49m\u001b[43m[\u001b[49m\u001b[43ms_name\u001b[49m\u001b[43m]\u001b[49m\u001b[38;5;241m.\u001b[39mmodel_dump()\n\u001b[0;32m     78\u001b[0m     \u001b[38;5;28;01mreturn\u001b[39;00m result\n",
      "\u001b[1;31mKeyError\u001b[0m: 'num_researchers'"
     ]
    }
   ],
   "source": [
    "repo.get('num_researchers')"
   ]
  },
  {
   "cell_type": "code",
   "execution_count": 12,
   "metadata": {},
   "outputs": [
    {
     "name": "stderr",
     "output_type": "stream",
     "text": [
      "C:\\Users\\sangeetha\\OurWebsite\\consulting_analysis_results\\src\\results_repo\\consulting_repo.py:87: UserWarning: num_researchers was not deleted\n",
      "  with path.open(f'{fname}.json', 'w') as f:\n"
     ]
    }
   ],
   "source": [
    "repo.push()"
   ]
  },
  {
   "cell_type": "code",
   "execution_count": 13,
   "metadata": {},
   "outputs": [],
   "source": [
    "repo.clear()"
   ]
  },
  {
   "cell_type": "code",
   "execution_count": 14,
   "metadata": {},
   "outputs": [
    {
     "data": {
      "text/plain": [
       "[]"
      ]
     },
     "execution_count": 14,
     "metadata": {},
     "output_type": "execute_result"
    }
   ],
   "source": [
    "repo.list()"
   ]
  },
  {
   "cell_type": "code",
   "execution_count": 15,
   "metadata": {},
   "outputs": [],
   "source": [
    "repo.pull()"
   ]
  },
  {
   "cell_type": "code",
   "execution_count": 16,
   "metadata": {},
   "outputs": [
    {
     "data": {
      "text/plain": [
       "[{'short_name': 'average_collaboration_hours',\n",
       "  'name': 'Average collaboration time',\n",
       "  'value': 5.0,\n",
       "  'units': 'Hour',\n",
       "  'display_units': 'Hrs'},\n",
       " {'short_name': 'average_consulting_hours_per_consultant',\n",
       "  'name': 'Average consulting time per consultant',\n",
       "  'value': 37.6,\n",
       "  'units': 'Hour',\n",
       "  'display_units': 'Hrs'},\n",
       " {'short_name': 'num_extended_collaborations',\n",
       "  'name': 'Number of extended collaborations',\n",
       "  'value': 17.0,\n",
       "  'units': 'Researcher',\n",
       "  'display_units': 'Researcher'},\n",
       " {'short_name': 'num_groups',\n",
       "  'name': 'Number of research groups',\n",
       "  'value': 12.0,\n",
       "  'units': 'Group',\n",
       "  'display_units': 'Group'},\n",
       " {'short_name': 'num_researchers',\n",
       "  'name': 'Number of researchers',\n",
       "  'value': 29.0,\n",
       "  'units': 'Researcher',\n",
       "  'display_units': 'Researcher'},\n",
       " {'short_name': 'num_sessions',\n",
       "  'name': 'Number of sessions',\n",
       "  'value': 119.0,\n",
       "  'units': 'Session',\n",
       "  'display_units': 'Session'},\n",
       " {'short_name': 'total_consulting_hours',\n",
       "  'name': 'Total consulting time',\n",
       "  'value': 191.0,\n",
       "  'units': 'Hour',\n",
       "  'display_units': 'Hrs'}]"
      ]
     },
     "execution_count": 16,
     "metadata": {},
     "output_type": "execute_result"
    }
   ],
   "source": [
    "repo.list()"
   ]
  },
  {
   "cell_type": "code",
   "execution_count": 21,
   "metadata": {},
   "outputs": [],
   "source": [
    "fs_local = LocalFileSystem('.')\n",
    "repo_local = ConsultingResultRepo.connect(fs_local)"
   ]
  },
  {
   "cell_type": "code",
   "execution_count": 22,
   "metadata": {},
   "outputs": [],
   "source": [
    "repo.clone_to(repo_local)"
   ]
  },
  {
   "cell_type": "code",
   "execution_count": 23,
   "metadata": {},
   "outputs": [
    {
     "data": {
      "text/plain": [
       "[{'short_name': 'average_collaboration_hours',\n",
       "  'name': 'Average collaboration time',\n",
       "  'value': 5.0,\n",
       "  'units': 'Hour',\n",
       "  'display_units': 'Hrs'},\n",
       " {'short_name': 'average_consulting_hours_per_consultant',\n",
       "  'name': 'Average consulting time per consultant',\n",
       "  'value': 37.6,\n",
       "  'units': 'Hour',\n",
       "  'display_units': 'Hrs'},\n",
       " {'short_name': 'num_extended_collaborations',\n",
       "  'name': 'Number of extended collaborations',\n",
       "  'value': 17.0,\n",
       "  'units': 'Researcher',\n",
       "  'display_units': 'Researcher'},\n",
       " {'short_name': 'num_groups',\n",
       "  'name': 'Number of research groups',\n",
       "  'value': 12.0,\n",
       "  'units': 'Group',\n",
       "  'display_units': 'Group'},\n",
       " {'short_name': 'num_researchers',\n",
       "  'name': 'Number of researchers',\n",
       "  'value': 29.0,\n",
       "  'units': 'Researcher',\n",
       "  'display_units': 'Researcher'},\n",
       " {'short_name': 'num_sessions',\n",
       "  'name': 'Number of sessions',\n",
       "  'value': 119.0,\n",
       "  'units': 'Session',\n",
       "  'display_units': 'Session'},\n",
       " {'short_name': 'total_consulting_hours',\n",
       "  'name': 'Total consulting time',\n",
       "  'value': 191.0,\n",
       "  'units': 'Hour',\n",
       "  'display_units': 'Hrs'}]"
      ]
     },
     "execution_count": 23,
     "metadata": {},
     "output_type": "execute_result"
    }
   ],
   "source": [
    "repo_local.list()"
   ]
  },
  {
   "cell_type": "code",
   "execution_count": 24,
   "metadata": {},
   "outputs": [],
   "source": [
    "repo_local.clear()"
   ]
  },
  {
   "cell_type": "code",
   "execution_count": 26,
   "metadata": {},
   "outputs": [],
   "source": [
    "repo_local.push()"
   ]
  },
  {
   "cell_type": "code",
   "execution_count": 27,
   "metadata": {},
   "outputs": [
    {
     "data": {
      "text/plain": [
       "[]"
      ]
     },
     "execution_count": 27,
     "metadata": {},
     "output_type": "execute_result"
    }
   ],
   "source": [
    "repo_local.list()"
   ]
  },
  {
   "cell_type": "code",
   "execution_count": 28,
   "metadata": {},
   "outputs": [
    {
     "data": {
      "text/plain": [
       "[{'short_name': 'average_collaboration_hours',\n",
       "  'name': 'Average collaboration time',\n",
       "  'value': 5.0,\n",
       "  'units': 'Hour',\n",
       "  'display_units': 'Hrs'},\n",
       " {'short_name': 'average_consulting_hours_per_consultant',\n",
       "  'name': 'Average consulting time per consultant',\n",
       "  'value': 37.6,\n",
       "  'units': 'Hour',\n",
       "  'display_units': 'Hrs'},\n",
       " {'short_name': 'num_extended_collaborations',\n",
       "  'name': 'Number of extended collaborations',\n",
       "  'value': 17.0,\n",
       "  'units': 'Researcher',\n",
       "  'display_units': 'Researcher'},\n",
       " {'short_name': 'num_groups',\n",
       "  'name': 'Number of research groups',\n",
       "  'value': 12.0,\n",
       "  'units': 'Group',\n",
       "  'display_units': 'Group'},\n",
       " {'short_name': 'num_researchers',\n",
       "  'name': 'Number of researchers',\n",
       "  'value': 29.0,\n",
       "  'units': 'Researcher',\n",
       "  'display_units': 'Researcher'},\n",
       " {'short_name': 'num_sessions',\n",
       "  'name': 'Number of sessions',\n",
       "  'value': 119.0,\n",
       "  'units': 'Session',\n",
       "  'display_units': 'Session'},\n",
       " {'short_name': 'total_consulting_hours',\n",
       "  'name': 'Total consulting time',\n",
       "  'value': 191.0,\n",
       "  'units': 'Hour',\n",
       "  'display_units': 'Hrs'}]"
      ]
     },
     "execution_count": 28,
     "metadata": {},
     "output_type": "execute_result"
    }
   ],
   "source": [
    "repo.list()"
   ]
  }
 ],
 "metadata": {
  "kernelspec": {
   "display_name": "ibots-site",
   "language": "python",
   "name": "python3"
  },
  "language_info": {
   "codemirror_mode": {
    "name": "ipython",
    "version": 3
   },
   "file_extension": ".py",
   "mimetype": "text/x-python",
   "name": "python",
   "nbconvert_exporter": "python",
   "pygments_lexer": "ipython3",
   "version": "3.12.2"
  }
 },
 "nbformat": 4,
 "nbformat_minor": 2
}
