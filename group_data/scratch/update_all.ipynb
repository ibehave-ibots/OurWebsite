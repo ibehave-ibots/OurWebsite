{
 "cells": [
  {
   "cell_type": "code",
   "execution_count": 1,
   "metadata": {},
   "outputs": [],
   "source": [
    "from ibots_db.schema import Data\n",
    "from pydantic import BaseModel\n",
    "from pathlib import Path\n",
    "import shutil"
   ]
  },
  {
   "cell_type": "code",
   "execution_count": 2,
   "metadata": {},
   "outputs": [
    {
     "data": {
      "text/plain": [
       "{'people': FieldInfo(annotation=ForwardRef('dict[str, Person]'), required=True),\n",
       " 'orgs': FieldInfo(annotation=ForwardRef('Orgs'), required=True),\n",
       " 'skills': FieldInfo(annotation=ForwardRef('dict[str, Skill]'), required=True),\n",
       " 'technologies': FieldInfo(annotation=ForwardRef('dict[str, Technology]'), required=True),\n",
       " 'images': FieldInfo(annotation=dict[str, Annotated[Path, PathType]], required=True)}"
      ]
     },
     "execution_count": 2,
     "metadata": {},
     "output_type": "execute_result"
    }
   ],
   "source": [
    "Data.model_fields"
   ]
  },
  {
   "cell_type": "code",
   "execution_count": 3,
   "metadata": {},
   "outputs": [
    {
     "data": {
      "text/plain": [
       "True"
      ]
     },
     "execution_count": 3,
     "metadata": {},
     "output_type": "execute_result"
    }
   ],
   "source": [
    "Data.model_rebuild()"
   ]
  },
  {
   "cell_type": "code",
   "execution_count": 5,
   "metadata": {},
   "outputs": [
    {
     "data": {
      "text/plain": [
       "{'people': FieldInfo(annotation=dict[str, Person], required=True),\n",
       " 'orgs': FieldInfo(annotation=Orgs, required=True),\n",
       " 'skills': FieldInfo(annotation=dict[str, Skill], required=True),\n",
       " 'technologies': FieldInfo(annotation=dict[str, Technology], required=True),\n",
       " 'images': FieldInfo(annotation=dict[str, Annotated[Path, PathType]], required=True)}"
      ]
     },
     "execution_count": 5,
     "metadata": {},
     "output_type": "execute_result"
    }
   ],
   "source": [
    "Data.model_fields"
   ]
  },
  {
   "cell_type": "code",
   "execution_count": 6,
   "metadata": {},
   "outputs": [],
   "source": [
    "tech = Data.model_fields['technologies']"
   ]
  },
  {
   "cell_type": "code",
   "execution_count": 7,
   "metadata": {},
   "outputs": [
    {
     "data": {
      "text/plain": [
       "dict[str, ibots_db.schema.Technology]"
      ]
     },
     "execution_count": 7,
     "metadata": {},
     "output_type": "execute_result"
    }
   ],
   "source": [
    "tech.annotation"
   ]
  },
  {
   "cell_type": "code",
   "execution_count": 8,
   "metadata": {},
   "outputs": [
    {
     "data": {
      "text/plain": [
       "PydanticUndefined"
      ]
     },
     "execution_count": 8,
     "metadata": {},
     "output_type": "execute_result"
    }
   ],
   "source": [
    "tech.get_default()"
   ]
  },
  {
   "cell_type": "code",
   "execution_count": 9,
   "metadata": {},
   "outputs": [
    {
     "data": {
      "text/plain": [
       "dict[str, ibots_db.schema.Technology]"
      ]
     },
     "execution_count": 9,
     "metadata": {},
     "output_type": "execute_result"
    }
   ],
   "source": [
    "tech.annotation"
   ]
  },
  {
   "cell_type": "code",
   "execution_count": 10,
   "metadata": {},
   "outputs": [],
   "source": [
    "from typing import get_args, get_origin"
   ]
  },
  {
   "cell_type": "code",
   "execution_count": 11,
   "metadata": {},
   "outputs": [
    {
     "data": {
      "text/plain": [
       "(str, ibots_db.schema.Technology)"
      ]
     },
     "execution_count": 11,
     "metadata": {},
     "output_type": "execute_result"
    }
   ],
   "source": [
    "get_args(tech.annotation)"
   ]
  },
  {
   "cell_type": "code",
   "execution_count": 12,
   "metadata": {},
   "outputs": [
    {
     "data": {
      "text/plain": [
       "dict"
      ]
     },
     "execution_count": 12,
     "metadata": {},
     "output_type": "execute_result"
    }
   ],
   "source": [
    "get_origin(tech.annotation)"
   ]
  },
  {
   "cell_type": "code",
   "execution_count": 13,
   "metadata": {},
   "outputs": [
    {
     "data": {
      "text/plain": [
       "dict"
      ]
     },
     "execution_count": 13,
     "metadata": {},
     "output_type": "execute_result"
    }
   ],
   "source": [
    "get_origin(tech.annotation)"
   ]
  },
  {
   "cell_type": "markdown",
   "metadata": {},
   "source": [
    "---"
   ]
  },
  {
   "cell_type": "code",
   "execution_count": 14,
   "metadata": {},
   "outputs": [],
   "source": [
    "aa = {'a': 3}\n"
   ]
  },
  {
   "cell_type": "code",
   "execution_count": 83,
   "metadata": {},
   "outputs": [
    {
     "name": "stdout",
     "output_type": "stream",
     "text": [
      "homepage: https://www.c-sharp.com/\n",
      "icon: icon c-sharp\n",
      "name: C-Sharp\n",
      "\n",
      "homepage: https://www.cpp.com/\n",
      "icon: icon c++\n",
      "name: C++\n",
      "\n",
      "C:\\Users\\SANGEE~1\\AppData\\Local\\Temp\\dbcheck_2wrkx_s\n",
      "{'tech1.yaml': 'homepage: https://www.c-sharp.com/\\nicon: icon c-sharp\\nname: C-Sharp\\n', 'tech2.yaml': 'homepage: https://www.cpp.com/\\nicon: icon c++\\nname: C++\\n'}\n",
      "C:\\Users\\SANGEE~1\\AppData\\Local\\Temp\\dbcheck_2wrkx_s\\technologies.txt\n",
      "C:\\Users\\sangeetha\\OurWebsite\\group_data\\data\n"
     ]
    }
   ],
   "source": [
    "from tempfile import TemporaryDirectory\n",
    "from ibots_db.funs import DATA_PATH\n",
    "from ibots_db.schema import Technology\n",
    "import yaml\n",
    "\n",
    "# assert key is an attribute of Data schema\n",
    "key = 'technologies'\n",
    "data = {\n",
    "    'tech1': Technology(name='C-Sharp', icon='icon c-sharp', homepage='https://www.c-sharp.com'),\n",
    "    'tech2': Technology(name='C++', icon='icon c++', homepage='https://www.cpp.com')\n",
    "    }\n",
    "\n",
    "field = Data.model_fields[key]\n",
    "\n",
    "# check that BaseModel given is the same type specified by the schema\n",
    "assert get_origin(field.annotation) is dict\n",
    "assert isinstance(data, dict)\n",
    "key_type, value_type = get_args(field.annotation)\n",
    "assert key_type is str\n",
    "assert issubclass(value_type, BaseModel)\n",
    "assert all(type(value) is value_type for key, value in data.items())\n",
    "\n",
    "# Make yaml out of the data\n",
    "yaml_data = {k + '.yaml': yaml.dump(value.model_dump(mode='json'), Dumper=yaml.Dumper) for k, value in data.items()}\n",
    "for val in yaml_data.values():\n",
    "    print(val)\n",
    "\n",
    "# make a temporary directory and copy the db files into it.\n",
    "temp_dir = Path(TemporaryDirectory(prefix='dbcheck').name)\n",
    "print(temp_dir)\n",
    "shutil.copytree(DATA_PATH, temp_dir, dirs_exist_ok=True)\n",
    "\n",
    "if not temp_dir.joinpath(key).with_suffix('.yaml').exists():\n",
    "    for k,value in yaml_data.items():\n",
    "        file_path = temp_dir.joinpath(key).joinpath(k)\n",
    "        file_path.parent.mkdir(parents=True, exist_ok=True)\n",
    "        file_path.write_text(value)\n",
    "\n",
    "else: \n",
    "    temp_txt = temp_dir.joinpath(key).with_suffix('.yaml')\n",
    "    parsed_data = {key: yaml.safe_load(value) for key, value in yaml_data.items()}\n",
    "    with open(temp_txt, 'w') as file:\n",
    "        yaml.dump(parsed_data, file, default_flow_style=False)\n",
    "\n",
    "print(yaml_data)\n",
    "print(temp_dir.joinpath(key).with_suffix('.txt'))\n",
    "\n",
    "# try it in real\n",
    "print(DATA_PATH)"
   ]
  },
  {
   "cell_type": "markdown",
   "metadata": {},
   "source": [
    "---"
   ]
  },
  {
   "cell_type": "code",
   "execution_count": null,
   "metadata": {},
   "outputs": [],
   "source": [
    "issubclass(key_type, BaseModel)"
   ]
  },
  {
   "cell_type": "code",
   "execution_count": null,
   "metadata": {},
   "outputs": [],
   "source": [
    "BaseModel.model_dump?"
   ]
  },
  {
   "cell_type": "code",
   "execution_count": null,
   "metadata": {},
   "outputs": [],
   "source": [
    "BaseModel in value_type.mro()"
   ]
  },
  {
   "cell_type": "code",
   "execution_count": null,
   "metadata": {},
   "outputs": [],
   "source": [
    "value_type.mro()"
   ]
  },
  {
   "cell_type": "code",
   "execution_count": null,
   "metadata": {},
   "outputs": [],
   "source": [
    "class A: ...\n",
    "class B(A): ...\n",
    "class E(A): ...\n",
    "class D(E): ...\n",
    "class C(D, B): ...\n"
   ]
  },
  {
   "cell_type": "code",
   "execution_count": null,
   "metadata": {},
   "outputs": [],
   "source": [
    "A.mro()"
   ]
  },
  {
   "cell_type": "code",
   "execution_count": null,
   "metadata": {},
   "outputs": [],
   "source": [
    "B.mro()"
   ]
  },
  {
   "cell_type": "code",
   "execution_count": null,
   "metadata": {},
   "outputs": [],
   "source": [
    "D.mro()"
   ]
  },
  {
   "cell_type": "code",
   "execution_count": null,
   "metadata": {},
   "outputs": [],
   "source": [
    "C.mro()"
   ]
  },
  {
   "cell_type": "code",
   "execution_count": null,
   "metadata": {},
   "outputs": [],
   "source": [
    "type(C.mro())"
   ]
  },
  {
   "cell_type": "code",
   "execution_count": null,
   "metadata": {},
   "outputs": [],
   "source": []
  }
 ],
 "metadata": {
  "kernelspec": {
   "display_name": "ibots-site",
   "language": "python",
   "name": "python3"
  },
  "language_info": {
   "codemirror_mode": {
    "name": "ipython",
    "version": 3
   },
   "file_extension": ".py",
   "mimetype": "text/x-python",
   "name": "python",
   "nbconvert_exporter": "python",
   "pygments_lexer": "ipython3",
   "version": "3.12.4"
  }
 },
 "nbformat": 4,
 "nbformat_minor": 2
}
