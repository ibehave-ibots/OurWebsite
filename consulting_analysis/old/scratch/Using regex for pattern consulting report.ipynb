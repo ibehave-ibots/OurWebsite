{
 "cells": [
  {
   "cell_type": "code",
   "execution_count": 1,
   "metadata": {},
   "outputs": [],
   "source": [
    "import re"
   ]
  },
  {
   "cell_type": "code",
   "execution_count": 17,
   "metadata": {},
   "outputs": [],
   "source": [
    "with open(\"../processed_data/consolidated_report.txt\", 'r') as f:\n",
    "    consolidated_report = f.read().lower()"
   ]
  },
  {
   "cell_type": "code",
   "execution_count": 32,
   "metadata": {},
   "outputs": [],
   "source": [
    "pattern = r\"type: (?P<type>\\w+)\""
   ]
  },
  {
   "cell_type": "code",
   "execution_count": 33,
   "metadata": {},
   "outputs": [],
   "source": [
    "matches = re.finditer(pattern, consolidated_report, re.DOTALL)"
   ]
  },
  {
   "cell_type": "code",
   "execution_count": 36,
   "metadata": {},
   "outputs": [],
   "source": [
    "result = []\n",
    "for match in matches:\n",
    "    result.append({\n",
    "        'type': match.group('type'),\n",
    "    })\n"
   ]
  },
  {
   "cell_type": "code",
   "execution_count": 47,
   "metadata": {},
   "outputs": [
    {
     "name": "stdout",
     "output_type": "stream",
     "text": [
      "learning\n",
      "type\n",
      "arduino\n",
      "arduino\n",
      "wants\n",
      "reviewed\n",
      "interested\n",
      "interested\n",
      "coding\n",
      "coding\n",
      "collaboration\n",
      "regarding\n",
      "modularizing\n",
      "exercise\n",
      "code\n",
      "coding\n",
      "book\n",
      "pr\n",
      "learning\n",
      "matlab\n",
      "r\n",
      "matlab\n",
      "r\n",
      "book\n",
      "python\n",
      "wald\n",
      "docker\n",
      "amadeusgpt\n",
      "code\n",
      "coders\n",
      "talk\n",
      "predictive\n",
      "oops\n",
      "web\n",
      "code\n",
      "code\n"
     ]
    }
   ],
   "source": [
    "pattern = r\"topic: (?P<topic>\\w+)\"\n",
    "matches = re.finditer(pattern, consolidated_report, re.DOTALL)\n",
    "for match in matches:\n",
    "    print(match.group('topic'))"
   ]
  },
  {
   "cell_type": "code",
   "execution_count": null,
   "metadata": {},
   "outputs": [],
   "source": []
  },
  {
   "cell_type": "code",
   "execution_count": null,
   "metadata": {},
   "outputs": [],
   "source": []
  }
 ],
 "metadata": {
  "kernelspec": {
   "display_name": "ibots-site",
   "language": "python",
   "name": "python3"
  },
  "language_info": {
   "codemirror_mode": {
    "name": "ipython",
    "version": 3
   },
   "file_extension": ".py",
   "mimetype": "text/x-python",
   "name": "python",
   "nbconvert_exporter": "python",
   "pygments_lexer": "ipython3",
   "version": "3.12.2"
  }
 },
 "nbformat": 4,
 "nbformat_minor": 2
}
