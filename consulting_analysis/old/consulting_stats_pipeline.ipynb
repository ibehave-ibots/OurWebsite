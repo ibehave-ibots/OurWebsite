{
 "cells": [
  {
   "cell_type": "code",
   "execution_count": 22,
   "metadata": {},
   "outputs": [],
   "source": [
    "from pathlib import Path\n",
    "from scripts.data_processor import count_page_breaks, create_consolidated_report\n",
    "from scripts.data_downloader import download_data\n",
    "from consulting_repo import ConsultingResultRepo\n",
    "import os"
   ]
  },
  {
   "cell_type": "code",
   "execution_count": 23,
   "metadata": {},
   "outputs": [],
   "source": [
    "os.environ['DB_WRITEMODE'] = '1'"
   ]
  },
  {
   "cell_type": "code",
   "execution_count": 24,
   "metadata": {
    "tags": [
     "parameters"
    ]
   },
   "outputs": [],
   "source": [
    "raw_data_path = 'raw_data/'\n",
    "data_consulting_stats_path = 'data_consulting_stats'"
   ]
  },
  {
   "cell_type": "code",
   "execution_count": 25,
   "metadata": {},
   "outputs": [],
   "source": [
    "download_data()\n",
    "reports = [file for file in Path(raw_data_path).iterdir() if file.is_file()]\n",
    "consolidated_report = create_consolidated_report(reports=reports)"
   ]
  },
  {
   "cell_type": "code",
   "execution_count": 26,
   "metadata": {},
   "outputs": [],
   "source": [
    "# number of short chats\n",
    "n_short = consolidated_report.lower().count('type: short')"
   ]
  },
  {
   "cell_type": "code",
   "execution_count": 27,
   "metadata": {},
   "outputs": [],
   "source": [
    "# number of hands-on\n",
    "n_hands_on = consolidated_report.lower().count('type: hands')"
   ]
  },
  {
   "cell_type": "code",
   "execution_count": 28,
   "metadata": {},
   "outputs": [
    {
     "data": {
      "text/plain": [
       "77"
      ]
     },
     "execution_count": 28,
     "metadata": {},
     "output_type": "execute_result"
    }
   ],
   "source": [
    "# number of consulting sessions\n",
    "n_sess = consolidated_report.lower().count('type: short') + consolidated_report.lower().count('type: hands')\n",
    "n_sess"
   ]
  },
  {
   "cell_type": "code",
   "execution_count": 29,
   "metadata": {},
   "outputs": [
    {
     "data": {
      "text/plain": [
       "112.55"
      ]
     },
     "execution_count": 29,
     "metadata": {},
     "output_type": "execute_result"
    }
   ],
   "source": [
    "# total hours in consulting sessions\n",
    "tot_hrs = consolidated_report.lower().count('type: short')*0.45 + consolidated_report.lower().count('type: hands')*2.5\n",
    "tot_hrs"
   ]
  },
  {
   "cell_type": "code",
   "execution_count": 30,
   "metadata": {},
   "outputs": [
    {
     "data": {
      "text/plain": [
       "[ResultDTO(short_name='n_sess', name='Total number of sessions', value=77.0, units='Session', display_units='Session'),\n",
       " ResultDTO(short_name='tot_hrs', name='Total hours of sessions', value=112.55, units='Hour', display_units='Hrs'),\n",
       " ResultDTO(short_name='n_sess', name='Total number of sessions', value=77.0, units='Session', display_units='Session')]"
      ]
     },
     "execution_count": 30,
     "metadata": {},
     "output_type": "execute_result"
    }
   ],
   "source": [
    "# add n_sess to repo\n",
    "repo = ConsultingResultRepo.connect(data_consulting_stats_path)\n",
    "repo.put(\n",
    "    short_name='n_sess',\n",
    "    name='Total number of sessions',\n",
    "    value=n_sess,\n",
    "    units='Session',\n",
    "    display_units='Session'\n",
    ")\n",
    "repo.list()"
   ]
  },
  {
   "cell_type": "code",
   "execution_count": 31,
   "metadata": {},
   "outputs": [
    {
     "data": {
      "text/plain": [
       "[ResultDTO(short_name='n_sess', name='Total number of sessions', value=77.0, units='Session', display_units='Session'),\n",
       " ResultDTO(short_name='tot_hrs', name='Total hours of sessions', value=112.55, units='Hour', display_units='Hrs'),\n",
       " ResultDTO(short_name='n_sess', name='Total number of sessions', value=77.0, units='Session', display_units='Session'),\n",
       " ResultDTO(short_name='tot_hrs', name='Total hours of sessions', value=112.55, units='Hour', display_units='Hrs')]"
      ]
     },
     "execution_count": 31,
     "metadata": {},
     "output_type": "execute_result"
    }
   ],
   "source": [
    "# add tot_hrs to repo\n",
    "repo.put(\n",
    "    short_name='tot_hrs',\n",
    "    name='Total hours of sessions',\n",
    "    value=tot_hrs,\n",
    "    units='Hour',\n",
    "    display_units='Hrs'\n",
    ")\n",
    "repo.list()"
   ]
  },
  {
   "cell_type": "code",
   "execution_count": 32,
   "metadata": {},
   "outputs": [
    {
     "data": {
      "text/plain": [
       "[ResultDTO(short_name='n_sess', name='Total number of sessions', value=77.0, units='Session', display_units='Session'),\n",
       " ResultDTO(short_name='tot_hrs', name='Total hours of sessions', value=112.55, units='Hour', display_units='Hrs'),\n",
       " ResultDTO(short_name='n_sess', name='Total number of sessions', value=77.0, units='Session', display_units='Session'),\n",
       " ResultDTO(short_name='tot_hrs', name='Total hours of sessions', value=112.55, units='Hour', display_units='Hrs'),\n",
       " ResultDTO(short_name='n_short', name='Total number of short chats', value=39.0, units='Hour', display_units='Hrs')]"
      ]
     },
     "execution_count": 32,
     "metadata": {},
     "output_type": "execute_result"
    }
   ],
   "source": [
    "repo.put(\n",
    "    short_name='n_short',\n",
    "    name='Total number of short chats',\n",
    "    value=n_short,\n",
    "    units='Hour',\n",
    "    display_units='Hrs'\n",
    ")\n",
    "repo.list()"
   ]
  },
  {
   "cell_type": "code",
   "execution_count": 33,
   "metadata": {},
   "outputs": [
    {
     "data": {
      "text/plain": [
       "[ResultDTO(short_name='n_sess', name='Total number of sessions', value=77.0, units='Session', display_units='Session'),\n",
       " ResultDTO(short_name='tot_hrs', name='Total hours of sessions', value=112.55, units='Hour', display_units='Hrs'),\n",
       " ResultDTO(short_name='n_sess', name='Total number of sessions', value=77.0, units='Session', display_units='Session'),\n",
       " ResultDTO(short_name='tot_hrs', name='Total hours of sessions', value=112.55, units='Hour', display_units='Hrs'),\n",
       " ResultDTO(short_name='n_short', name='Total number of short chats', value=39.0, units='Hour', display_units='Hrs'),\n",
       " ResultDTO(short_name='n_hands', name='Total number of hands-on', value=38.0, units='Hour', display_units='Hrs')]"
      ]
     },
     "execution_count": 33,
     "metadata": {},
     "output_type": "execute_result"
    }
   ],
   "source": [
    "repo.put(\n",
    "    short_name='n_hands',\n",
    "    name='Total number of hands-on',\n",
    "    value=n_hands_on,\n",
    "    units='Hour',\n",
    "    display_units='Hrs'\n",
    ")\n",
    "repo.list()"
   ]
  },
  {
   "cell_type": "code",
   "execution_count": 34,
   "metadata": {},
   "outputs": [
    {
     "data": {
      "text/plain": [
       "{'short_name': ['n_sess',\n",
       "  'tot_hrs',\n",
       "  'n_sess',\n",
       "  'tot_hrs',\n",
       "  'n_short',\n",
       "  'n_hands'],\n",
       " 'name': ['Total number of sessions',\n",
       "  'Total hours of sessions',\n",
       "  'Total number of sessions',\n",
       "  'Total hours of sessions',\n",
       "  'Total number of short chats',\n",
       "  'Total number of hands-on'],\n",
       " 'value': [77.0, 112.55, 77.0, 112.55, 39.0, 38.0],\n",
       " 'units': ['Session', 'Hour', 'Session', 'Hour', 'Hour', 'Hour'],\n",
       " 'display_units': ['Session', 'Hrs', 'Session', 'Hrs', 'Hrs', 'Hrs']}"
      ]
     },
     "execution_count": 34,
     "metadata": {},
     "output_type": "execute_result"
    }
   ],
   "source": [
    "repo.to_dict()"
   ]
  },
  {
   "cell_type": "code",
   "execution_count": 35,
   "metadata": {},
   "outputs": [],
   "source": [
    "repo.save()"
   ]
  }
 ],
 "metadata": {
  "kernelspec": {
   "display_name": "ibots-site",
   "language": "python",
   "name": "python3"
  },
  "language_info": {
   "codemirror_mode": {
    "name": "ipython",
    "version": 3
   },
   "file_extension": ".py",
   "mimetype": "text/x-python",
   "name": "python",
   "nbconvert_exporter": "python",
   "pygments_lexer": "ipython3",
   "version": "3.12.2"
  }
 },
 "nbformat": 4,
 "nbformat_minor": 2
}
