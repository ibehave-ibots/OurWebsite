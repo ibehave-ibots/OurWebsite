{
 "cells": [
  {
   "cell_type": "code",
   "execution_count": 1,
   "metadata": {},
   "outputs": [],
   "source": [
    "from dotenv import load_dotenv\n",
    "import os\n",
    "import dateutil.parser as parser\n",
    "from webdav4.fsspec import WebdavFileSystem\n",
    "from fsspec.implementations.local import LocalFileSystem\n",
    "import yaml"
   ]
  },
  {
   "cell_type": "markdown",
   "metadata": {},
   "source": [
    "## Functions"
   ]
  },
  {
   "cell_type": "code",
   "execution_count": 2,
   "metadata": {},
   "outputs": [],
   "source": [
    "from docx import Document\n",
    "from pathlib import Path\n",
    "\n",
    "\n",
    "def process(reports_path: list):\n",
    "    consultants = []\n",
    "    \n",
    "    for report_path in reports_path:\n",
    "        consultants.append(extract_report_data(report_path))                \n",
    "    return consultants\n",
    "\n",
    "def extract_report_data(report_path):\n",
    "    document = Document(report_path)\n",
    "    report_data = reset_report_data()\n",
    "    reports = []\n",
    "    current_section = None\n",
    "\n",
    "    for para in document.paragraphs:\n",
    "        text = para.text.strip()\n",
    "        \n",
    "        if text.startswith('Type:'):\n",
    "            if report_data['type']:\n",
    "                reports.append(report_data)\n",
    "                report_data = reset_report_data()\n",
    "            report_data['type'] = clean_text(text, 'Type:')\n",
    "            current_section = 'content'\n",
    "        elif text.startswith('Scholar:'):\n",
    "            report_data['scholar'] = clean_text(text, 'Scholar:')\n",
    "        elif text.startswith('Date:'):\n",
    "            report_data['date'] = clean_text(text, 'Date:')\n",
    "        elif text.startswith('Topic:'):\n",
    "            report_data['topic'] = clean_text(text, 'Topic:')\n",
    "        elif text.startswith('Content:'):\n",
    "            report_data['content'] = clean_text(text, 'Content:')\n",
    "            current_section = 'content'\n",
    "        elif current_section == 'content':\n",
    "            report_data['content'] += '\\n' + text\n",
    "\n",
    "    if report_data['type']:\n",
    "        reports.append(report_data)\n",
    "\n",
    "    return reports\n",
    "\n",
    "def clean_text(text, prefix):\n",
    "    return text.replace(prefix, '').strip()\n",
    "\n",
    "def reset_report_data():\n",
    "    return {'type': '', 'scholar': '', 'date': '', 'topic': '', 'content': ''}"
   ]
  },
  {
   "cell_type": "markdown",
   "metadata": {},
   "source": [
    "## Download reports from sciebo"
   ]
  },
  {
   "cell_type": "code",
   "execution_count": null,
   "metadata": {},
   "outputs": [],
   "source": [
    "load_dotenv()\n",
    "USR = os.getenv('REPORT_USR')\n",
    "PWD = os.getenv('REPORT_PWD')\n",
    "fs = WebdavFileSystem(\"https://uni-bonn.sciebo.de/public.php/webdav\", auth=(USR, PWD))\n",
    "fs.download('/', 'raw/', recursive=True)"
   ]
  },
  {
   "cell_type": "markdown",
   "metadata": {},
   "source": [
    "## Process reports"
   ]
  },
  {
   "cell_type": "code",
   "execution_count": null,
   "metadata": {},
   "outputs": [],
   "source": [
    "\n",
    "fs_raw = LocalFileSystem()\n",
    "reports = fs_raw.ls('raw', detail=False)\n",
    "consultants = process(reports_path=reports)\n",
    "consultants = consultants[1:] # ignoring test doc"
   ]
  },
  {
   "cell_type": "markdown",
   "metadata": {},
   "source": [
    "## Write each session to a yaml file"
   ]
  },
  {
   "cell_type": "code",
   "execution_count": null,
   "metadata": {},
   "outputs": [],
   "source": [
    "\n",
    "for c_num, consultant in enumerate(consultants):\n",
    "    for s_num, session in enumerate(consultant):\n",
    "        os.makedirs('output_yaml', exist_ok=True)\n",
    "        filename = 'output_yaml/' + str(c_num) + '_' + str(s_num).zfill(3) + '_' + session['type'] + '_' + parser.parse(session['date']).strftime('%Y_%m_%d') + '.yaml'\n",
    "        with open(filename, 'w') as f:\n",
    "            yaml.dump(session, f)"
   ]
  }
 ],
 "metadata": {
  "kernelspec": {
   "display_name": "ibots-site",
   "language": "python",
   "name": "python3"
  },
  "language_info": {
   "codemirror_mode": {
    "name": "ipython",
    "version": 3
   },
   "file_extension": ".py",
   "mimetype": "text/x-python",
   "name": "python",
   "nbconvert_exporter": "python",
   "pygments_lexer": "ipython3",
   "version": "3.12.4"
  }
 },
 "nbformat": 4,
 "nbformat_minor": 2
}
