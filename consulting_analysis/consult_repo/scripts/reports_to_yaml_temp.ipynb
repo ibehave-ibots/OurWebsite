{
 "cells": [
  {
   "cell_type": "code",
   "execution_count": 1,
   "metadata": {},
   "outputs": [],
   "source": [
    "from dotenv import load_dotenv\n",
    "import os\n",
    "from pathlib import Path\n",
    "import shutil\n",
    "import dateutil.parser as parser\n",
    "from webdav4.fsspec import WebdavFileSystem\n",
    "from fsspec.implementations.local import LocalFileSystem\n",
    "import yaml"
   ]
  },
  {
   "cell_type": "code",
   "execution_count": 2,
   "metadata": {
    "tags": [
     "parameters"
    ]
   },
   "outputs": [],
   "source": [
    "raw_dir = 'raw_data/'\n",
    "output_dir = 'output_yaml'"
   ]
  },
  {
   "cell_type": "markdown",
   "metadata": {},
   "source": [
    "## Functions"
   ]
  },
  {
   "cell_type": "code",
   "execution_count": 3,
   "metadata": {},
   "outputs": [],
   "source": [
    "from docx import Document\n",
    "from pathlib import Path\n",
    "\n",
    "\n",
    "def process(reports_path: list):\n",
    "    consultants = []\n",
    "    \n",
    "    for report_path in reports_path:\n",
    "        consultants.append(extract_report_data(report_path))                \n",
    "    return consultants\n",
    "\n",
    "def extract_report_data(report_path):\n",
    "    document = Document(report_path)\n",
    "    report_data = reset_report_data()\n",
    "    reports = []\n",
    "    current_section = None\n",
    "\n",
    "    for para in document.paragraphs:\n",
    "        text = para.text.strip()\n",
    "        \n",
    "        if text.startswith('Type:'):\n",
    "            if report_data['type']:\n",
    "                reports.append(report_data)\n",
    "                report_data = reset_report_data()\n",
    "            report_data['type'] = clean_text(text, 'Type:')\n",
    "            current_section = 'content'\n",
    "        elif text.startswith('Scholar:'):\n",
    "            report_data['scholar'] = clean_text(text, 'Scholar:')\n",
    "        elif text.startswith('Date:'):\n",
    "            report_data['date'] = clean_text(text, 'Date:')\n",
    "        elif text.startswith('Topic:'):\n",
    "            report_data['topic'] = clean_text(text, 'Topic:')\n",
    "        elif text.startswith('Content:'):\n",
    "            report_data['content'] = clean_text(text, 'Content:')\n",
    "            current_section = 'content'\n",
    "        elif current_section == 'content':\n",
    "            report_data['content'] += '\\n' + text\n",
    "\n",
    "    if report_data['type']:\n",
    "        reports.append(report_data)\n",
    "\n",
    "    return reports\n",
    "\n",
    "def clean_text(text, prefix):\n",
    "    return text.replace(prefix, '').strip()\n",
    "\n",
    "def reset_report_data():\n",
    "    return {'type': '', 'scholar': '', 'date': '', 'topic': '', 'content': ''}"
   ]
  },
  {
   "cell_type": "markdown",
   "metadata": {},
   "source": [
    "## Process reports"
   ]
  },
  {
   "cell_type": "code",
   "execution_count": 4,
   "metadata": {},
   "outputs": [],
   "source": [
    "\n",
    "fs_raw = LocalFileSystem()\n",
    "reports = fs_raw.ls(raw_dir, detail=False)\n",
    "reports = reports[1:] \n",
    "consultants = process(reports_path=reports)"
   ]
  },
  {
   "cell_type": "markdown",
   "metadata": {},
   "source": [
    "## Write each session to a yaml file"
   ]
  },
  {
   "cell_type": "code",
   "execution_count": 5,
   "metadata": {},
   "outputs": [],
   "source": [
    "if os.path.exists(output_dir):\n",
    "    shutil.rmtree(output_dir)\n",
    "os.makedirs(output_dir, exist_ok=True)\n",
    "\n",
    "\n",
    "for c_num, consultant in enumerate(consultants):\n",
    "    consultant_name = Path(reports[c_num]).stem\n",
    "    for s_num, session in enumerate(consultant):\n",
    "        session['consultant'] = consultant_name\n",
    "        session['date'] = parser.parse(session['date']).strftime('%Y-%m-%d')\n",
    "        filename = 'output_yaml/' + consultant_name + '_' + str(s_num).zfill(3) + '_' + parser.parse(session['date']).strftime('%Y-%m-%d') + '.yaml'\n",
    "        with open(filename, 'w') as f:\n",
    "            yaml.dump(session, f)"
   ]
  }
 ],
 "metadata": {
  "kernelspec": {
   "display_name": "ibots-site",
   "language": "python",
   "name": "python3"
  },
  "language_info": {
   "codemirror_mode": {
    "name": "ipython",
    "version": 3
   },
   "file_extension": ".py",
   "mimetype": "text/x-python",
   "name": "python",
   "nbconvert_exporter": "python",
   "pygments_lexer": "ipython3",
   "version": "3.12.4"
  }
 },
 "nbformat": 4,
 "nbformat_minor": 2
}
