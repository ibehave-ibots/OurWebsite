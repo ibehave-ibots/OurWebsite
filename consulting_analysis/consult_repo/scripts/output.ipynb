{
 "cells": [
  {
   "cell_type": "code",
   "execution_count": 1,
   "id": "cd718905",
   "metadata": {
    "execution": {
     "iopub.execute_input": "2024-07-16T15:29:07.883628Z",
     "iopub.status.busy": "2024-07-16T15:29:07.883628Z",
     "iopub.status.idle": "2024-07-16T15:29:08.106878Z",
     "shell.execute_reply": "2024-07-16T15:29:08.106878Z"
    },
    "papermill": {
     "duration": 0.224243,
     "end_time": "2024-07-16T15:29:08.106878",
     "exception": false,
     "start_time": "2024-07-16T15:29:07.882635",
     "status": "completed"
    },
    "tags": []
   },
   "outputs": [],
   "source": [
    "from dotenv import load_dotenv\n",
    "import os\n",
    "from pathlib import Path\n",
    "import shutil\n",
    "import dateutil.parser as parser\n",
    "from webdav4.fsspec import WebdavFileSystem\n",
    "from fsspec.implementations.local import LocalFileSystem\n",
    "import yaml"
   ]
  },
  {
   "cell_type": "code",
   "execution_count": 2,
   "id": "ff93cd7b",
   "metadata": {
    "execution": {
     "iopub.execute_input": "2024-07-16T15:29:08.106878Z",
     "iopub.status.busy": "2024-07-16T15:29:08.106878Z",
     "iopub.status.idle": "2024-07-16T15:29:08.114108Z",
     "shell.execute_reply": "2024-07-16T15:29:08.114108Z"
    },
    "papermill": {
     "duration": 0.00723,
     "end_time": "2024-07-16T15:29:08.114108",
     "exception": false,
     "start_time": "2024-07-16T15:29:08.106878",
     "status": "completed"
    },
    "tags": [
     "parameters"
    ]
   },
   "outputs": [],
   "source": [
    "# Setting parameters for papermill\n",
    "\n",
    "raw_dir = 'raw/'\n",
    "output_dir = 'output_yaml'\n",
    "env_usr = 'REPORT_USR'\n",
    "env_pwd = 'REPORT_PWD'"
   ]
  },
  {
   "cell_type": "code",
   "execution_count": 3,
   "id": "a8975d4f",
   "metadata": {
    "execution": {
     "iopub.execute_input": "2024-07-16T15:29:08.117272Z",
     "iopub.status.busy": "2024-07-16T15:29:08.117272Z",
     "iopub.status.idle": "2024-07-16T15:29:08.121031Z",
     "shell.execute_reply": "2024-07-16T15:29:08.121031Z"
    },
    "papermill": {
     "duration": 0.006923,
     "end_time": "2024-07-16T15:29:08.121031",
     "exception": false,
     "start_time": "2024-07-16T15:29:08.114108",
     "status": "completed"
    },
    "tags": [
     "injected-parameters"
    ]
   },
   "outputs": [],
   "source": [
    "# Parameters\n",
    "raw_dir = \"raw\"\n",
    "output_dir = \"output_yaml\"\n"
   ]
  },
  {
   "cell_type": "markdown",
   "id": "f18544ed",
   "metadata": {
    "papermill": {
     "duration": 0.0,
     "end_time": "2024-07-16T15:29:08.121031",
     "exception": false,
     "start_time": "2024-07-16T15:29:08.121031",
     "status": "completed"
    },
    "tags": []
   },
   "source": [
    "## Functions"
   ]
  },
  {
   "cell_type": "code",
   "execution_count": 4,
   "id": "7a9f70e5",
   "metadata": {
    "execution": {
     "iopub.execute_input": "2024-07-16T15:29:08.121031Z",
     "iopub.status.busy": "2024-07-16T15:29:08.121031Z",
     "iopub.status.idle": "2024-07-16T15:29:08.191610Z",
     "shell.execute_reply": "2024-07-16T15:29:08.191610Z"
    },
    "papermill": {
     "duration": 0.070579,
     "end_time": "2024-07-16T15:29:08.191610",
     "exception": false,
     "start_time": "2024-07-16T15:29:08.121031",
     "status": "completed"
    },
    "tags": []
   },
   "outputs": [],
   "source": [
    "from docx import Document\n",
    "from pathlib import Path\n",
    "\n",
    "\n",
    "def process(reports_path: list):\n",
    "    consultants = []\n",
    "    \n",
    "    for report_path in reports_path:\n",
    "        consultants.append(extract_report_data(report_path))                \n",
    "    return consultants\n",
    "\n",
    "def extract_report_data(report_path):\n",
    "    document = Document(report_path)\n",
    "    report_data = reset_report_data()\n",
    "    reports = []\n",
    "    current_section = None\n",
    "\n",
    "    for para in document.paragraphs:\n",
    "        text = para.text.strip()\n",
    "        \n",
    "        if text.startswith('Type:'):\n",
    "            if report_data['type']:\n",
    "                reports.append(report_data)\n",
    "                report_data = reset_report_data()\n",
    "            report_data['type'] = clean_text(text, 'Type:')\n",
    "            current_section = 'content'\n",
    "        elif text.startswith('Scholar:'):\n",
    "            report_data['scholar'] = clean_text(text, 'Scholar:')\n",
    "        elif text.startswith('Date:'):\n",
    "            report_data['date'] = clean_text(text, 'Date:')\n",
    "        elif text.startswith('Topic:'):\n",
    "            report_data['topic'] = clean_text(text, 'Topic:')\n",
    "        elif text.startswith('Content:'):\n",
    "            report_data['content'] = clean_text(text, 'Content:')\n",
    "            current_section = 'content'\n",
    "        elif current_section == 'content':\n",
    "            report_data['content'] += '\\n' + text\n",
    "\n",
    "    if report_data['type']:\n",
    "        reports.append(report_data)\n",
    "\n",
    "    return reports\n",
    "\n",
    "def clean_text(text, prefix):\n",
    "    return text.replace(prefix, '').strip()\n",
    "\n",
    "def reset_report_data():\n",
    "    return {'type': '', 'scholar': '', 'date': '', 'topic': '', 'content': ''}"
   ]
  },
  {
   "cell_type": "markdown",
   "id": "1d162b12",
   "metadata": {
    "papermill": {
     "duration": 0.0,
     "end_time": "2024-07-16T15:29:08.191610",
     "exception": false,
     "start_time": "2024-07-16T15:29:08.191610",
     "status": "completed"
    },
    "tags": []
   },
   "source": [
    "## Download reports from sciebo"
   ]
  },
  {
   "cell_type": "code",
   "execution_count": 5,
   "id": "7d146528",
   "metadata": {
    "execution": {
     "iopub.execute_input": "2024-07-16T15:29:08.199872Z",
     "iopub.status.busy": "2024-07-16T15:29:08.199042Z",
     "iopub.status.idle": "2024-07-16T15:29:11.896756Z",
     "shell.execute_reply": "2024-07-16T15:29:11.896756Z"
    },
    "papermill": {
     "duration": 3.707484,
     "end_time": "2024-07-16T15:29:11.899094",
     "exception": false,
     "start_time": "2024-07-16T15:29:08.191610",
     "status": "completed"
    },
    "tags": []
   },
   "outputs": [],
   "source": [
    "load_dotenv()\n",
    "USR = os.getenv(env_usr)\n",
    "PWD = os.getenv(env_pwd)\n",
    "fs = WebdavFileSystem(\"https://uni-bonn.sciebo.de/public.php/webdav\", auth=(USR, PWD))\n",
    "fs.download('/', raw_dir, recursive=True)"
   ]
  },
  {
   "cell_type": "markdown",
   "id": "30c248c0",
   "metadata": {
    "papermill": {
     "duration": 0.001932,
     "end_time": "2024-07-16T15:29:11.902956",
     "exception": false,
     "start_time": "2024-07-16T15:29:11.901024",
     "status": "completed"
    },
    "tags": []
   },
   "source": [
    "## Process reports"
   ]
  },
  {
   "cell_type": "code",
   "execution_count": 6,
   "id": "859331a8",
   "metadata": {
    "execution": {
     "iopub.execute_input": "2024-07-16T15:29:11.905346Z",
     "iopub.status.busy": "2024-07-16T15:29:11.905346Z",
     "iopub.status.idle": "2024-07-16T15:29:12.161414Z",
     "shell.execute_reply": "2024-07-16T15:29:12.161414Z"
    },
    "papermill": {
     "duration": 0.26031,
     "end_time": "2024-07-16T15:29:12.163266",
     "exception": false,
     "start_time": "2024-07-16T15:29:11.902956",
     "status": "completed"
    },
    "tags": []
   },
   "outputs": [],
   "source": [
    "\n",
    "fs_raw = LocalFileSystem()\n",
    "reports = fs_raw.ls(raw_dir, detail=False)\n",
    "reports = reports[1:] \n",
    "consultants = process(reports_path=reports)"
   ]
  },
  {
   "cell_type": "markdown",
   "id": "725b63ca",
   "metadata": {
    "papermill": {
     "duration": 0.003993,
     "end_time": "2024-07-16T15:29:12.167259",
     "exception": false,
     "start_time": "2024-07-16T15:29:12.163266",
     "status": "completed"
    },
    "tags": []
   },
   "source": [
    "## Write each session to a yaml file"
   ]
  },
  {
   "cell_type": "code",
   "execution_count": 7,
   "id": "52412369",
   "metadata": {
    "execution": {
     "iopub.execute_input": "2024-07-16T15:29:12.171266Z",
     "iopub.status.busy": "2024-07-16T15:29:12.171266Z",
     "iopub.status.idle": "2024-07-16T15:29:12.315860Z",
     "shell.execute_reply": "2024-07-16T15:29:12.315447Z"
    },
    "papermill": {
     "duration": 0.14763,
     "end_time": "2024-07-16T15:29:12.316928",
     "exception": false,
     "start_time": "2024-07-16T15:29:12.169298",
     "status": "completed"
    },
    "tags": []
   },
   "outputs": [],
   "source": [
    "if os.path.exists(output_dir):\n",
    "    shutil.rmtree(output_dir)\n",
    "os.makedirs(output_dir, exist_ok=True)\n",
    "\n",
    "\n",
    "for c_num, consultant in enumerate(consultants):\n",
    "    consultant_name = Path(reports[c_num]).stem\n",
    "    for s_num, session in enumerate(consultant):\n",
    "        session['consultant'] = consultant_name\n",
    "        session['date'] = parser.parse(session['date']).strftime('%Y-%m-%d')\n",
    "        filename = 'output_yaml/' + consultant_name + '_' + str(s_num).zfill(3) + '_' + parser.parse(session['date']).strftime('%Y-%m-%d') + '.yaml'\n",
    "        with open(filename, 'w') as f:\n",
    "            yaml.dump(session, f)"
   ]
  }
 ],
 "metadata": {
  "kernelspec": {
   "display_name": "ibots-site",
   "language": "python",
   "name": "python3"
  },
  "language_info": {
   "codemirror_mode": {
    "name": "ipython",
    "version": 3
   },
   "file_extension": ".py",
   "mimetype": "text/x-python",
   "name": "python",
   "nbconvert_exporter": "python",
   "pygments_lexer": "ipython3",
   "version": "3.12.4"
  },
  "papermill": {
   "default_parameters": {},
   "duration": 6.339474,
   "end_time": "2024-07-16T15:29:12.551177",
   "environment_variables": {},
   "exception": null,
   "input_path": "reports_to_yaml.ipynb",
   "output_path": "output.ipynb",
   "parameters": {
    "output_dir": "output_yaml",
    "raw_dir": "raw"
   },
   "start_time": "2024-07-16T15:29:06.211703",
   "version": "2.6.0"
  }
 },
 "nbformat": 4,
 "nbformat_minor": 5
}