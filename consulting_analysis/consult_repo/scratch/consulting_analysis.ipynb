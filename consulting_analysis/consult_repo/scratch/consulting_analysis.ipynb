{
 "cells": [
  {
   "cell_type": "code",
   "execution_count": 1,
   "metadata": {},
   "outputs": [],
   "source": [
    "%load_ext autoreload\n",
    "%autoreload 2"
   ]
  },
  {
   "cell_type": "code",
   "execution_count": 4,
   "metadata": {},
   "outputs": [],
   "source": [
    "import os\n",
    "import sys"
   ]
  },
  {
   "cell_type": "code",
   "execution_count": 8,
   "metadata": {},
   "outputs": [],
   "source": [
    "# needs to be run so that we can access packages directly\n",
    "\n",
    "notebook_dir = os.getcwd()\n",
    "project_path = os.path.abspath(os.path.join(notebook_dir, '..'))\n",
    "\n",
    "if project_path not in sys.path:\n",
    "    sys.path.append(project_path)"
   ]
  },
  {
   "cell_type": "markdown",
   "metadata": {},
   "source": [
    "Importing packages"
   ]
  },
  {
   "cell_type": "code",
   "execution_count": 9,
   "metadata": {},
   "outputs": [],
   "source": [
    "from src import TemplateDocumentProcessor\n",
    "from fsspec.implementations.local import LocalFileSystem"
   ]
  },
  {
   "cell_type": "markdown",
   "metadata": {},
   "source": [
    "### Getting reports (raw docx files) "
   ]
  },
  {
   "cell_type": "code",
   "execution_count": 21,
   "metadata": {},
   "outputs": [
    {
     "data": {
      "text/plain": [
       "['c:/Users/sangeetha/OurWebsite/consulting_analysis/consult_repo/scratch/../raw/consulting_session_template.docx',\n",
       " 'c:/Users/sangeetha/OurWebsite/consulting_analysis/consult_repo/scratch/../raw/Mo.docx',\n",
       " 'c:/Users/sangeetha/OurWebsite/consulting_analysis/consult_repo/scratch/../raw/Nick.docx',\n",
       " 'c:/Users/sangeetha/OurWebsite/consulting_analysis/consult_repo/scratch/../raw/Sangee.docx']"
      ]
     },
     "execution_count": 21,
     "metadata": {},
     "output_type": "execute_result"
    }
   ],
   "source": [
    "fs_raw = LocalFileSystem()\n",
    "reports = fs_raw.ls('../raw/')\n",
    "reports"
   ]
  },
  {
   "cell_type": "markdown",
   "metadata": {},
   "source": [
    "### Processing reports\n",
    "\n",
    "The `process` method of TemplateDocumentProcessor reads Word documents containing structured report data, extracts the relevant information, and organized it into `Consultant` objects that can be usef to analyze and summarize the data."
   ]
  },
  {
   "cell_type": "code",
   "execution_count": 22,
   "metadata": {},
   "outputs": [],
   "source": [
    "template_proc = TemplateDocumentProcessor()\n",
    "consultants = template_proc.process(reports)"
   ]
  },
  {
   "cell_type": "markdown",
   "metadata": {},
   "source": [
    "There are some simple calculations and processing already available through Consultant objects. Below is a small demo using our dummy document."
   ]
  },
  {
   "cell_type": "code",
   "execution_count": 38,
   "metadata": {},
   "outputs": [],
   "source": [
    "consultant = consultants[0]"
   ]
  },
  {
   "cell_type": "code",
   "execution_count": 39,
   "metadata": {},
   "outputs": [
    {
     "data": {
      "text/plain": [
       "'consulting_session_template'"
      ]
     },
     "execution_count": 39,
     "metadata": {},
     "output_type": "execute_result"
    }
   ],
   "source": [
    "# name of the consultant\n",
    "consultant.name"
   ]
  },
  {
   "cell_type": "code",
   "execution_count": 25,
   "metadata": {},
   "outputs": [
    {
     "data": {
      "text/plain": [
       "{'Amanda Thomas',\n",
       " 'Christopher Anderson',\n",
       " 'Daniel Jackson',\n",
       " 'David Wilson',\n",
       " 'Emily Johnson',\n",
       " 'Jane Doe',\n",
       " 'Jessica Martinez',\n",
       " 'John Smith',\n",
       " 'Karen Robinson',\n",
       " 'Lisa Moore',\n",
       " 'Michael Brown',\n",
       " 'Robert Clark',\n",
       " 'Sarah Davis'}"
      ]
     },
     "execution_count": 25,
     "metadata": {},
     "output_type": "execute_result"
    }
   ],
   "source": [
    "# names of unique scholars\n",
    "consultant.scholars"
   ]
  },
  {
   "cell_type": "code",
   "execution_count": 26,
   "metadata": {},
   "outputs": [
    {
     "data": {
      "text/plain": [
       "13"
      ]
     },
     "execution_count": 26,
     "metadata": {},
     "output_type": "execute_result"
    }
   ],
   "source": [
    "# number of unique scholars\n",
    "consultant.num_unique_scholars"
   ]
  },
  {
   "cell_type": "code",
   "execution_count": 30,
   "metadata": {},
   "outputs": [
    {
     "data": {
      "text/plain": [
       "11"
      ]
     },
     "execution_count": 30,
     "metadata": {},
     "output_type": "execute_result"
    }
   ],
   "source": [
    "consultant.num_short_sessions"
   ]
  },
  {
   "cell_type": "code",
   "execution_count": 32,
   "metadata": {},
   "outputs": [
    {
     "data": {
      "text/plain": [
       "5"
      ]
     },
     "execution_count": 32,
     "metadata": {},
     "output_type": "execute_result"
    }
   ],
   "source": [
    "# number of hands on sessions\n",
    "consultant.num_hands_on_sessions"
   ]
  },
  {
   "cell_type": "code",
   "execution_count": 33,
   "metadata": {},
   "outputs": [
    {
     "data": {
      "text/plain": [
       "16"
      ]
     },
     "execution_count": 33,
     "metadata": {},
     "output_type": "execute_result"
    }
   ],
   "source": [
    "consultant.num_total_sessions"
   ]
  },
  {
   "cell_type": "code",
   "execution_count": 34,
   "metadata": {},
   "outputs": [
    {
     "data": {
      "text/plain": [
       "8.25"
      ]
     },
     "execution_count": 34,
     "metadata": {},
     "output_type": "execute_result"
    }
   ],
   "source": [
    "consultant.time_short_hrs"
   ]
  },
  {
   "cell_type": "code",
   "execution_count": 35,
   "metadata": {},
   "outputs": [
    {
     "data": {
      "text/plain": [
       "12.5"
      ]
     },
     "execution_count": 35,
     "metadata": {},
     "output_type": "execute_result"
    }
   ],
   "source": [
    "consultant.time_hands_on_hrs"
   ]
  },
  {
   "cell_type": "code",
   "execution_count": 36,
   "metadata": {},
   "outputs": [
    {
     "data": {
      "text/plain": [
       "20.75"
      ]
     },
     "execution_count": 36,
     "metadata": {},
     "output_type": "execute_result"
    }
   ],
   "source": [
    "consultant.time_all_hrs"
   ]
  },
  {
   "cell_type": "code",
   "execution_count": 37,
   "metadata": {},
   "outputs": [
    {
     "data": {
      "text/plain": [
       "\"Python is an interpreted, high-level, general-purpose programming language. Its design philosophy emphasizes code readability with its notable use of significant indentation. Python's language constructs and object-oriented approach aim to help programmers write clear, logical code for small and large-scale projects.\\n Data Science is a multidisciplinary field that uses scientific methods, processes, algorithms, and systems to extract knowledge and insights from structured and unstructured data. It applies data analysis, machine learning, and big data technologies to solve complex problems.\\n\\n Java is a high-level, class-based, object-oriented programming language designed to have as few implementation dependencies as possible. It is a general-purpose programming language intended to let application developers write once, run anywhere.\\n\\n HTML (HyperText Markup Language) is the standard markup language for creating web pages. CSS (Cascading Style Sheets) is used to style and layout web pages. Together, they are the building blocks of web development, enabling the creation of visually appealing and well-structured web pages.\\n\\n SQL (Structured Query Language) is a domain-specific language used in programming and designed for managing data held in a relational database management system. It is particularly useful in handling structured data, i.e., data incorporating relations among entities and variables.\\n\\n Machine Learning is a subset of artificial intelligence that involves the use of data and algorithms to imitate the way humans learn, gradually improving its accuracy. It includes techniques like supervised learning, unsupervised learning, and reinforcement learning.\\n\\n R is a programming language and free software environment used for statistical computing and graphics. Supported by the R Foundation for Statistical Computing, it is widely used among statisticians and data miners for data analysis and developing statistical software.\\n\\n Networking involves the practice of transporting and exchanging data between nodes over a shared medium in an information system. It includes the use of network protocols, devices, and tools to establish, manage, and secure the network connections.\\n\\n Cybersecurity is the practice of protecting systems, networks, and programs from digital attacks. These cyberattacks are usually aimed at accessing, changing, or destroying sensitive information, extorting money from users, or interrupting normal business processes.\\n\\n Blockchain is a decentralized ledger of all transactions across a network. Using this technology, participants can confirm transactions without the need for a central clearing authority. Potential applications include fund transfers, settling trades, voting, and many other uses.\\n\\n The Big Oxmox advised her not to do so, because there were thousands of bad Commas, wild Question Marks and devious Semikoli, but the Little Blind Text didn’t listen. She packed her seven versalia, put her initial into the belt and made herself on the way. When she reached the first hills of the Italic Mountains, she had a last view back on the skyline of her hometown Bookmarksgrove, the headline of Alphabet Village and the subline of her own road, the Line Lane. Pityful a rethoric question ran over her cheek, then Far far away, behind the word mountains, far from the countries Vokalia and Consonantia, there live the blind texts. Separated they live in Bookmarksgrove right at the coast of the Semantics, a large language ocean. A small river named Duden flows by their place and supplies it with the necessary regelialia. It is a paradisematic country, in which roasted parts of sentences fly into your mouth. Even the all-powerful Pointing has no control about the blind texts it is an almost unorthographic life One day however a small line of blind text by the name of Lorem Ipsum decided to leave for the far World of Grammar.\\n\\n The lazy dog jumped over the quick brown fox, but the fox was not to be outdone. It dashed over the green meadows, its fur glistening in the sunlight. The dog, relentless in its pursuit, followed closely behind, determined to catch the elusive fox. As they raced through the fields, they encountered various obstacles - a fallen log, a small stream, and a flock of startled birds. Yet, their chase continued, each one pushing their limits, unaware of the picturesque scene they were creating. Their playful rivalry was a testament to their enduring spirit and boundless energy.\\n\\n On a warm summer day, the children of the village gathered around the old oak tree, eager to hear the stories of the wise elder. He spoke of ancient times, where heroes and legends roamed the earth, their deeds immortalized in the stars. The children listened in awe, their imaginations painting vivid pictures of the tales. As the sun set, casting a golden hue over the landscape, the elder's voice carried a sense of wonder and nostalgia, bridging the gap between the past and the present. The stories, though old, resonated with the young hearts, igniting a spark of curiosity and adventure.\\n\\n In the heart of the bustling city, there was a small café that served the most exquisite pastries. Every morning, the aroma of freshly baked bread and coffee filled the air, drawing people from all walks of life. The café was a haven, a place where time seemed to slow down, and conversations flowed effortlessly. Regular patrons included artists, writers, and business people, each finding solace in the cozy atmosphere. The owner, a jovial man with a passion for baking, greeted everyone with a warm smile, ensuring that the café was not just a place to eat, but a community hub.\\n\\n On the edge of the serene lake, a fisherman sat patiently, his line cast into the calm waters. The early morning mist hovered above the surface, creating an ethereal landscape. Birds chirped softly, and the gentle breeze rustled the leaves of the nearby trees. The fisherman, a picture of tranquility, waited for a bite, his thoughts wandering to the simple joys of life. As the sun slowly rose, painting the sky in shades of pink and orange, he felt a tug on his line. A smile spread across his face, not just for the catch, but for the peaceful moments spent in nature's embrace.\\n\\n Deep in the forest, hidden from prying eyes, was a small cottage that looked like it came straight out of a fairy tale. Covered in ivy and surrounded by vibrant flowers, it was a sanctuary for those who stumbled upon it. The cottage belonged to an old herbalist, known for her remedies and potions. She lived a quiet life, tending to her garden and helping those in need. Her knowledge of plants and their healing properties was unparalleled, passed down through generations. Visitors left her cottage with not just cures for their ailments, but with a sense of peace and gratitude for her kindness.\""
      ]
     },
     "execution_count": 37,
     "metadata": {},
     "output_type": "execute_result"
    }
   ],
   "source": [
    "consultant.consolidated_content"
   ]
  }
 ],
 "metadata": {
  "kernelspec": {
   "display_name": "consulting-analysis",
   "language": "python",
   "name": "python3"
  },
  "language_info": {
   "codemirror_mode": {
    "name": "ipython",
    "version": 3
   },
   "file_extension": ".py",
   "mimetype": "text/x-python",
   "name": "python",
   "nbconvert_exporter": "python",
   "pygments_lexer": "ipython3",
   "version": "3.12.4"
  }
 },
 "nbformat": 4,
 "nbformat_minor": 2
}
