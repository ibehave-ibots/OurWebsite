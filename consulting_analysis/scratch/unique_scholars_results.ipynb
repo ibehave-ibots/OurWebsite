{
 "cells": [
  {
   "cell_type": "code",
   "execution_count": 1,
   "metadata": {},
   "outputs": [],
   "source": [
    "import sys\n",
    "import os\n",
    "\n",
    "# Add the scripts directory to the system path\n",
    "sys.path.append(os.path.abspath(os.path.join('..', 'scripts')))"
   ]
  },
  {
   "cell_type": "code",
   "execution_count": 21,
   "metadata": {},
   "outputs": [],
   "source": [
    "from pathlib import Path\n",
    "from data_processor import count_page_breaks, create_consolidated_report, generate_report\n",
    "from data_downloader import download_data\n",
    "from results_repo import ConsultingResultRepo\n",
    "from webdav4.fsspec import WebdavFileSystem\n",
    "import pandas as pd\n",
    "from dotenv import load_dotenv\n",
    "import os\n",
    "import pandas as pd"
   ]
  },
  {
   "cell_type": "code",
   "execution_count": 3,
   "metadata": {},
   "outputs": [],
   "source": [
    "os.environ['DB_WRITEMODE'] = '1'"
   ]
  },
  {
   "cell_type": "code",
   "execution_count": 4,
   "metadata": {},
   "outputs": [],
   "source": [
    "raw_data_path = 'raw_data/'\n",
    "data_consulting_stats_path = 'data_consulting_stats'"
   ]
  },
  {
   "cell_type": "code",
   "execution_count": 5,
   "metadata": {},
   "outputs": [],
   "source": [
    "download_data()"
   ]
  },
  {
   "cell_type": "code",
   "execution_count": 6,
   "metadata": {},
   "outputs": [],
   "source": [
    "reports = [file for file in Path(raw_data_path).iterdir() if file.is_file()]\n",
    "consolidated_report = create_consolidated_report(reports)"
   ]
  },
  {
   "cell_type": "code",
   "execution_count": 7,
   "metadata": {},
   "outputs": [
    {
     "data": {
      "text/plain": [
       "3865"
      ]
     },
     "execution_count": 7,
     "metadata": {},
     "output_type": "execute_result"
    }
   ],
   "source": [
    "# complete list\n",
    "consolidated_list = consolidated_report.split('\\n')\n",
    "len(consolidated_list)"
   ]
  },
  {
   "cell_type": "code",
   "execution_count": 8,
   "metadata": {},
   "outputs": [
    {
     "data": {
      "text/plain": [
       "1479"
      ]
     },
     "execution_count": 8,
     "metadata": {},
     "output_type": "execute_result"
    }
   ],
   "source": [
    "# removing empty strings from list\n",
    "consolidated_list_empty_string_remove = list(filter(None, consolidated_list))\n",
    "len(consolidated_list_empty_string_remove)"
   ]
  },
  {
   "cell_type": "code",
   "execution_count": 15,
   "metadata": {},
   "outputs": [
    {
     "data": {
      "text/plain": [
       "55"
      ]
     },
     "execution_count": 15,
     "metadata": {},
     "output_type": "execute_result"
    }
   ],
   "source": [
    "# finding scholar names (still takes some strings with 'Meeting topic' removing them is taken care of with the below code too)\n",
    "scholar_names = []\n",
    "\n",
    "for i in range(len(consolidated_list_empty_string_remove) - 1):  \n",
    "    if \"Scholar(s):\" in consolidated_list_empty_string_remove[i]:\n",
    "        next_element = consolidated_list_empty_string_remove[i + 1]\n",
    "        if not (next_element.startswith(\"Meeting topic\") or next_element.startswith(\"\\t\")):\n",
    "            scholar_names.append(next_element)\n",
    "\n",
    "len(scholar_names)"
   ]
  },
  {
   "cell_type": "code",
   "execution_count": 16,
   "metadata": {},
   "outputs": [],
   "source": [
    "df = pd.DataFrame({'scholars': scholar_names})"
   ]
  },
  {
   "cell_type": "code",
   "execution_count": 19,
   "metadata": {},
   "outputs": [],
   "source": [
    "num_unique_scholars = len(df.scholars.unique())"
   ]
  },
  {
   "cell_type": "code",
   "execution_count": 20,
   "metadata": {},
   "outputs": [
    {
     "data": {
      "text/plain": [
       "22"
      ]
     },
     "execution_count": 20,
     "metadata": {},
     "output_type": "execute_result"
    }
   ],
   "source": [
    "num_unique_scholars"
   ]
  },
  {
   "cell_type": "markdown",
   "metadata": {},
   "source": [
    "### Uploading results on Sciebo"
   ]
  },
  {
   "cell_type": "code",
   "execution_count": 22,
   "metadata": {},
   "outputs": [],
   "source": [
    "load_dotenv()\n",
    "USR = os.getenv('USR')\n",
    "fs = WebdavFileSystem(\"https://uni-bonn.sciebo.de/public.php/webdav\", auth=(USR, \"\"))"
   ]
  },
  {
   "cell_type": "code",
   "execution_count": 26,
   "metadata": {},
   "outputs": [
    {
     "data": {
      "text/plain": [
       "[]"
      ]
     },
     "execution_count": 26,
     "metadata": {},
     "output_type": "execute_result"
    }
   ],
   "source": [
    "# Connecting to repo\n",
    "repo = ConsultingResultRepo.connect(fs)\n",
    "repo.list()"
   ]
  },
  {
   "cell_type": "code",
   "execution_count": 27,
   "metadata": {},
   "outputs": [],
   "source": [
    "# Pulling existing results from sciebo\n",
    "repo.pull()"
   ]
  },
  {
   "cell_type": "code",
   "execution_count": 31,
   "metadata": {},
   "outputs": [],
   "source": [
    "# updating number of unique researchers\n",
    "repo.put(\n",
    "    short_name='num_researchers',\n",
    "    name='Number of researchers',\n",
    "    value=num_unique_scholars,\n",
    "    units='Researcher',\n",
    "    display_units='Researcher'\n",
    ")"
   ]
  },
  {
   "cell_type": "code",
   "execution_count": 34,
   "metadata": {},
   "outputs": [],
   "source": [
    "# pushing to remote\n",
    "repo.push()"
   ]
  }
 ],
 "metadata": {
  "kernelspec": {
   "display_name": "ibots-site",
   "language": "python",
   "name": "python3"
  },
  "language_info": {
   "codemirror_mode": {
    "name": "ipython",
    "version": 3
   },
   "file_extension": ".py",
   "mimetype": "text/x-python",
   "name": "python",
   "nbconvert_exporter": "python",
   "pygments_lexer": "ipython3",
   "version": "3.12.2"
  }
 },
 "nbformat": 4,
 "nbformat_minor": 2
}
