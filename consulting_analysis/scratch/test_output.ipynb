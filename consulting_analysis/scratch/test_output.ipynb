{
 "cells": [
  {
   "cell_type": "code",
   "execution_count": 1,
   "id": "3d2b8dc0",
   "metadata": {
    "execution": {
     "iopub.execute_input": "2024-06-05T10:12:05.759094Z",
     "iopub.status.busy": "2024-06-05T10:12:05.759094Z",
     "iopub.status.idle": "2024-06-05T10:12:05.775210Z",
     "shell.execute_reply": "2024-06-05T10:12:05.774192Z"
    },
    "papermill": {
     "duration": 0.017371,
     "end_time": "2024-06-05T10:12:05.776465",
     "exception": false,
     "start_time": "2024-06-05T10:12:05.759094",
     "status": "completed"
    },
    "tags": [
     "parameters"
    ]
   },
   "outputs": [],
   "source": [
    "a: int = 100 # variable a"
   ]
  },
  {
   "cell_type": "code",
   "execution_count": 2,
   "id": "f59c3948",
   "metadata": {
    "execution": {
     "iopub.execute_input": "2024-06-05T10:12:05.788191Z",
     "iopub.status.busy": "2024-06-05T10:12:05.788191Z",
     "iopub.status.idle": "2024-06-05T10:12:05.793780Z",
     "shell.execute_reply": "2024-06-05T10:12:05.793780Z"
    },
    "papermill": {
     "duration": 0.005589,
     "end_time": "2024-06-05T10:12:05.793780",
     "exception": false,
     "start_time": "2024-06-05T10:12:05.788191",
     "status": "completed"
    },
    "tags": [
     "injected-parameters"
    ]
   },
   "outputs": [],
   "source": [
    "# Parameters\n",
    "a = 500\n"
   ]
  },
  {
   "cell_type": "code",
   "execution_count": 3,
   "id": "fcd1a112",
   "metadata": {
    "execution": {
     "iopub.execute_input": "2024-06-05T10:12:05.793780Z",
     "iopub.status.busy": "2024-06-05T10:12:05.793780Z",
     "iopub.status.idle": "2024-06-05T10:12:05.802388Z",
     "shell.execute_reply": "2024-06-05T10:12:05.802388Z"
    },
    "papermill": {
     "duration": 0.01042,
     "end_time": "2024-06-05T10:12:05.804200",
     "exception": false,
     "start_time": "2024-06-05T10:12:05.793780",
     "status": "completed"
    },
    "tags": []
   },
   "outputs": [
    {
     "data": {
      "text/plain": [
       "520"
      ]
     },
     "execution_count": 3,
     "metadata": {},
     "output_type": "execute_result"
    }
   ],
   "source": [
    "a+20"
   ]
  }
 ],
 "metadata": {
  "kernelspec": {
   "display_name": "ibots-site",
   "language": "python",
   "name": "python3"
  },
  "language_info": {
   "codemirror_mode": {
    "name": "ipython",
    "version": 3
   },
   "file_extension": ".py",
   "mimetype": "text/x-python",
   "name": "python",
   "nbconvert_exporter": "python",
   "pygments_lexer": "ipython3",
   "version": "3.12.2"
  },
  "papermill": {
   "default_parameters": {},
   "duration": 1.779784,
   "end_time": "2024-06-05T10:12:05.948556",
   "environment_variables": {},
   "exception": null,
   "input_path": "test.ipynb",
   "output_path": "test_output.ipynb",
   "parameters": {
    "a": 500
   },
   "start_time": "2024-06-05T10:12:04.168772",
   "version": "2.6.0"
  }
 },
 "nbformat": 4,
 "nbformat_minor": 5
}