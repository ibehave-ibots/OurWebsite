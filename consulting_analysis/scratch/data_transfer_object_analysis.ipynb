{
 "cells": [
  {
   "cell_type": "code",
   "execution_count": 1,
   "metadata": {},
   "outputs": [],
   "source": [
    "from pydantic import BaseModel"
   ]
  },
  {
   "cell_type": "code",
   "execution_count": 110,
   "metadata": {},
   "outputs": [],
   "source": [
    "class ConsultingResult(BaseModel):\n",
    "    short_name: str\n",
    "    name: str\n",
    "    value: float\n",
    "    units: str\n",
    "    display_units: str"
   ]
  },
  {
   "cell_type": "code",
   "execution_count": 112,
   "metadata": {},
   "outputs": [],
   "source": [
    "from dataclasses import dataclass, field\n",
    "import json\n",
    "import os\n",
    "from pathlib import Path\n",
    "from typing import Any, Dict, NamedTuple, Tuple\n",
    "from pprint import pprint\n",
    "import functools\n",
    "\n",
    "def requires_write_permission(fun):\n",
    "    @functools.wraps(fun)\n",
    "    def wrapper(*args, **kwargs):\n",
    "        if not os.getenv('DB_WRITEMODE'):\n",
    "            raise PermissionError(\"Write permission disabled\")\n",
    "        return fun(*args, **kwargs)\n",
    "    return wrapper\n",
    "\n",
    "@dataclass\n",
    "class ConsultingResultRepo:\n",
    "    consulting_results: list[ConsultingResult] = field(repr=False)\n",
    "    path: Path\n",
    "    write_mode: bool\n",
    "\n",
    "    @classmethod\n",
    "    def connect(cls, path, write_mode = False) -> 'ConsultingResultRepo':\n",
    "        path = Path(path)\n",
    "        results = []\n",
    "        for file in path.glob('*.json'):\n",
    "            result = ConsultingResult.model_validate_json(file.read_text())\n",
    "            results.append(result)\n",
    "        \n",
    "        return ConsultingResultRepo(\n",
    "            consulting_results=results,\n",
    "            path=path,\n",
    "            write_mode = write_mode\n",
    "        )\n",
    "\n",
    "    @requires_write_permission\n",
    "    def clear_all(self) -> None: \n",
    "        self.consulting_results.clear()\n",
    "            \n",
    "    @requires_write_permission\n",
    "    def put(self, short_name: str, name: str, value: float, units: str, display_units: str) -> None:\n",
    "        result = ConsultingResult(\n",
    "            short_name=short_name,\n",
    "            name=name,\n",
    "            value=value,\n",
    "            units=units,\n",
    "            display_units=display_units,\n",
    "        )\n",
    "        self.consulting_results.append(result)\n",
    "\n",
    "    def list_all(self) -> list[ConsultingResult]:\n",
    "        pprint(self.consulting_results)\n",
    "\n",
    "    def get(self, s_name: str) -> ConsultingResult:\n",
    "        for result in self.consulting_results:\n",
    "            if s_name in result.short_name:\n",
    "                return result\n",
    "    \n",
    "    def to_dict(self) -> Dict[Any, Any]:\n",
    "        return self._asdict()\n",
    "    \n",
    "    def save(self):\n",
    "        path = Path(self.path)\n",
    "        if path.exists():\n",
    "            assert path.is_dir()\n",
    "        \n",
    "        path.mkdir(parents=True, exist_ok=True)\n",
    "        for i, result in enumerate(self.consulting_results):\n",
    "            json_text = result.model_dump_json(indent=3)\n",
    "            path.joinpath(f'{i}.json').write_text(json_text)\n",
    "        "
   ]
  },
  {
   "cell_type": "code",
   "execution_count": 101,
   "metadata": {},
   "outputs": [
    {
     "data": {
      "text/plain": [
       "ConsultingResultRepo(path=WindowsPath('data'), write_mode=False)"
      ]
     },
     "execution_count": 101,
     "metadata": {},
     "output_type": "execute_result"
    }
   ],
   "source": [
    "new_repo = ConsultingResultRepo.connect(path='data')\n",
    "new_repo"
   ]
  },
  {
   "cell_type": "code",
   "execution_count": 102,
   "metadata": {},
   "outputs": [
    {
     "ename": "PermissionError",
     "evalue": "Write permission disabled",
     "output_type": "error",
     "traceback": [
      "\u001b[1;31m---------------------------------------------------------------------------\u001b[0m",
      "\u001b[1;31mPermissionError\u001b[0m                           Traceback (most recent call last)",
      "Cell \u001b[1;32mIn[102], line 1\u001b[0m\n\u001b[1;32m----> 1\u001b[0m \u001b[43mnew_repo\u001b[49m\u001b[38;5;241;43m.\u001b[39;49m\u001b[43mclear_all\u001b[49m\u001b[43m(\u001b[49m\u001b[43m)\u001b[49m\n",
      "Cell \u001b[1;32mIn[100], line 13\u001b[0m, in \u001b[0;36mrequires_write_permission.<locals>.wrapper\u001b[1;34m(*args, **kwargs)\u001b[0m\n\u001b[0;32m     10\u001b[0m \u001b[38;5;129m@functools\u001b[39m\u001b[38;5;241m.\u001b[39mwraps(fun)\n\u001b[0;32m     11\u001b[0m \u001b[38;5;28;01mdef\u001b[39;00m \u001b[38;5;21mwrapper\u001b[39m(\u001b[38;5;241m*\u001b[39margs, \u001b[38;5;241m*\u001b[39m\u001b[38;5;241m*\u001b[39mkwargs):\n\u001b[0;32m     12\u001b[0m     \u001b[38;5;28;01mif\u001b[39;00m \u001b[38;5;129;01mnot\u001b[39;00m os\u001b[38;5;241m.\u001b[39mgetenv(\u001b[38;5;124m'\u001b[39m\u001b[38;5;124mDB_WRITEMODE\u001b[39m\u001b[38;5;124m'\u001b[39m):\n\u001b[1;32m---> 13\u001b[0m         \u001b[38;5;28;01mraise\u001b[39;00m \u001b[38;5;167;01mPermissionError\u001b[39;00m(\u001b[38;5;124m\"\u001b[39m\u001b[38;5;124mWrite permission disabled\u001b[39m\u001b[38;5;124m\"\u001b[39m)\n\u001b[0;32m     14\u001b[0m     \u001b[38;5;28;01mreturn\u001b[39;00m fun(\u001b[38;5;241m*\u001b[39margs, \u001b[38;5;241m*\u001b[39m\u001b[38;5;241m*\u001b[39mkwargs)\n",
      "\u001b[1;31mPermissionError\u001b[0m: Write permission disabled"
     ]
    }
   ],
   "source": [
    "new_repo.clear_all()"
   ]
  },
  {
   "cell_type": "code",
   "execution_count": 105,
   "metadata": {},
   "outputs": [],
   "source": [
    "os.environ['DB_WRITEMODE'] = '1'"
   ]
  },
  {
   "cell_type": "code",
   "execution_count": null,
   "metadata": {},
   "outputs": [],
   "source": []
  },
  {
   "cell_type": "code",
   "execution_count": 106,
   "metadata": {},
   "outputs": [],
   "source": [
    "new_repo.clear_all()"
   ]
  },
  {
   "cell_type": "code",
   "execution_count": 54,
   "metadata": {},
   "outputs": [
    {
     "data": {
      "text/plain": [
       "ConsultingResult(short_name='n_sess', name='Number of Sessions', value=100.0, units='Sessions', display_units='Sess')"
      ]
     },
     "execution_count": 54,
     "metadata": {},
     "output_type": "execute_result"
    }
   ],
   "source": [
    "a = result: ConsultingResult(\n",
    "    short_name='n_sess',\n",
    "    name='Number of Sessions',\n",
    "    value=100,\n",
    "    units='Sessions',\n",
    "    display_units='Sess'\n",
    ")\n",
    "\n",
    "a # value is automatically converted to float from int by pydantic"
   ]
  },
  {
   "cell_type": "code",
   "execution_count": 55,
   "metadata": {},
   "outputs": [
    {
     "data": {
      "text/plain": [
       "ConsultingResult(short_name='tot_hours', name='Total Number of Hours', value=10.5, units='Hour', display_units='Hrs')"
      ]
     },
     "execution_count": 55,
     "metadata": {},
     "output_type": "execute_result"
    }
   ],
   "source": [
    "b = result: ConsultingResult(\n",
    "    short_name='tot_hours',\n",
    "    name='Total Number of Hours',\n",
    "    value=10.5,\n",
    "    units='Hour',\n",
    "    display_units='Hrs'\n",
    ")\n",
    "\n",
    "b"
   ]
  },
  {
   "cell_type": "code",
   "execution_count": null,
   "metadata": {},
   "outputs": [],
   "source": []
  },
  {
   "cell_type": "code",
   "execution_count": 59,
   "metadata": {},
   "outputs": [
    {
     "data": {
      "text/plain": [
       "ConsultingResultRepo(consulting_results=[ConsultingResult(short_name='n_sess', name='Number of Sessions', value=100.0, units='Sessions', display_units='Sess'), ConsultingResult(short_name='tot_hours', name='Total Number of Hours', value=10.5, units='Hour', display_units='Hrs')], path='data/')"
      ]
     },
     "execution_count": 59,
     "metadata": {},
     "output_type": "execute_result"
    }
   ],
   "source": [
    "results = ConsultingResultRepo(\n",
    "    consulting_results=[a, b],\n",
    "    path='data/'\n",
    ")\n",
    "results\n",
    "# Tuple automatically converted to List"
   ]
  },
  {
   "cell_type": "code",
   "execution_count": 60,
   "metadata": {},
   "outputs": [],
   "source": [
    "results.save()"
   ]
  },
  {
   "cell_type": "code",
   "execution_count": 57,
   "metadata": {},
   "outputs": [
    {
     "data": {
      "text/plain": [
       "ConsultingResultRepo(consulting_results=[ConsultingResult(short_name='n_sess', name='Number of Sessions', value=100.0, units='Sessions', display_units='Sess'), ConsultingResult(short_name='tot_hours', name='Total Number of Hours', value=10.5, units='Hour', display_units='Hrs'), ConsultingResult(short_name='n_sc', name='Number of Short Chats', value=50.0, units='Session', display_units='Sess')], path='.')"
      ]
     },
     "execution_count": 57,
     "metadata": {},
     "output_type": "execute_result"
    }
   ],
   "source": [
    "# let's add a new consulting result to the repo using the put method\n",
    "c = result: ConsultingResult(\n",
    "    short_name='n_sc',\n",
    "    name='Number of Short Chats',\n",
    "    value=50,\n",
    "    units='Session',\n",
    "    display_units='Sess'\n",
    ")\n",
    "\n",
    "results.put(c)\n",
    "results"
   ]
  },
  {
   "cell_type": "code",
   "execution_count": 48,
   "metadata": {},
   "outputs": [
    {
     "name": "stdout",
     "output_type": "stream",
     "text": [
      "[ConsultingResult(short_name='n_sess', name='Number of Sessions', value=100.0, units='Sessions', display_units='Sess'),\n",
      " ConsultingResult(short_name='tot_hours', name='Total Number of Hours', value=10.5, units='Hour', display_units='Hrs'),\n",
      " ConsultingResult(short_name='n_sc', name='Number of Short Chats', value=50.0, units='Session', display_units='Sess')]\n"
     ]
    }
   ],
   "source": [
    "# display all results using list_all method\n",
    "results.list_all()"
   ]
  },
  {
   "cell_type": "code",
   "execution_count": 49,
   "metadata": {},
   "outputs": [
    {
     "data": {
      "text/plain": [
       "ConsultingResult(short_name='n_sess', name='Number of Sessions', value=100.0, units='Sessions', display_units='Sess')"
      ]
     },
     "execution_count": 49,
     "metadata": {},
     "output_type": "execute_result"
    }
   ],
   "source": [
    "# get a result by specifying the short name (e.g., n_sess)\n",
    "results.get('n_sess')"
   ]
  },
  {
   "cell_type": "code",
   "execution_count": 50,
   "metadata": {},
   "outputs": [
    {
     "data": {
      "text/plain": [
       "{'consulting_results': [ConsultingResult(short_name='n_sess', name='Number of Sessions', value=100.0, units='Sessions', display_units='Sess'),\n",
       "  ConsultingResult(short_name='tot_hours', name='Total Number of Hours', value=10.5, units='Hour', display_units='Hrs'),\n",
       "  ConsultingResult(short_name='n_sc', name='Number of Short Chats', value=50.0, units='Session', display_units='Sess')],\n",
       " 'path': '.'}"
      ]
     },
     "execution_count": 50,
     "metadata": {},
     "output_type": "execute_result"
    }
   ],
   "source": [
    "# get a dictionary of the table\n",
    "results.to_dict()"
   ]
  },
  {
   "cell_type": "code",
   "execution_count": 51,
   "metadata": {},
   "outputs": [
    {
     "data": {
      "text/html": [
       "<div>\n",
       "<style scoped>\n",
       "    .dataframe tbody tr th:only-of-type {\n",
       "        vertical-align: middle;\n",
       "    }\n",
       "\n",
       "    .dataframe tbody tr th {\n",
       "        vertical-align: top;\n",
       "    }\n",
       "\n",
       "    .dataframe thead th {\n",
       "        text-align: right;\n",
       "    }\n",
       "</style>\n",
       "<table border=\"1\" class=\"dataframe\">\n",
       "  <thead>\n",
       "    <tr style=\"text-align: right;\">\n",
       "      <th></th>\n",
       "      <th>0</th>\n",
       "      <th>1</th>\n",
       "      <th>2</th>\n",
       "      <th>3</th>\n",
       "      <th>4</th>\n",
       "    </tr>\n",
       "  </thead>\n",
       "  <tbody>\n",
       "    <tr>\n",
       "      <th>0</th>\n",
       "      <td>(short_name, n_sess)</td>\n",
       "      <td>(name, Number of Sessions)</td>\n",
       "      <td>(value, 100.0)</td>\n",
       "      <td>(units, Sessions)</td>\n",
       "      <td>(display_units, Sess)</td>\n",
       "    </tr>\n",
       "    <tr>\n",
       "      <th>1</th>\n",
       "      <td>(short_name, tot_hours)</td>\n",
       "      <td>(name, Total Number of Hours)</td>\n",
       "      <td>(value, 10.5)</td>\n",
       "      <td>(units, Hour)</td>\n",
       "      <td>(display_units, Hrs)</td>\n",
       "    </tr>\n",
       "    <tr>\n",
       "      <th>2</th>\n",
       "      <td>(short_name, n_sc)</td>\n",
       "      <td>(name, Number of Short Chats)</td>\n",
       "      <td>(value, 50.0)</td>\n",
       "      <td>(units, Session)</td>\n",
       "      <td>(display_units, Sess)</td>\n",
       "    </tr>\n",
       "  </tbody>\n",
       "</table>\n",
       "</div>"
      ],
      "text/plain": [
       "                         0                              1               2  \\\n",
       "0     (short_name, n_sess)     (name, Number of Sessions)  (value, 100.0)   \n",
       "1  (short_name, tot_hours)  (name, Total Number of Hours)   (value, 10.5)   \n",
       "2       (short_name, n_sc)  (name, Number of Short Chats)   (value, 50.0)   \n",
       "\n",
       "                   3                      4  \n",
       "0  (units, Sessions)  (display_units, Sess)  \n",
       "1      (units, Hour)   (display_units, Hrs)  \n",
       "2   (units, Session)  (display_units, Sess)  "
      ]
     },
     "execution_count": 51,
     "metadata": {},
     "output_type": "execute_result"
    }
   ],
   "source": [
    "# testing conversion to pandas dataframe\n",
    "\n",
    "import pandas as pd\n",
    "pd.DataFrame(results.to_dict()['consulting_results'])"
   ]
  },
  {
   "cell_type": "code",
   "execution_count": null,
   "metadata": {},
   "outputs": [],
   "source": []
  },
  {
   "cell_type": "code",
   "execution_count": 12,
   "metadata": {},
   "outputs": [
    {
     "name": "stdout",
     "output_type": "stream",
     "text": [
      "Before clear all\n",
      "[ConsultingResult(short_name='n_sess', name='Number of Sessions', value=100.0, units='Sessions', display_units='Sess'),\n",
      " ConsultingResult(short_name='tot_hours', name='Total Number of Hours', value=10.5, units='Hour', display_units='Hrs'),\n",
      " ConsultingResult(short_name='n_sc', name='Number of Short Chats', value=50.0, units='Session', display_units='Sess')]\n",
      "\n",
      "After clear all\n"
     ]
    },
    {
     "data": {
      "text/plain": [
       "[]"
      ]
     },
     "execution_count": 12,
     "metadata": {},
     "output_type": "execute_result"
    }
   ],
   "source": [
    "# delete results using clear_all \n",
    "print('Before clear all')\n",
    "pprint(results.consulting_results)\n",
    "print()\n",
    "print('After clear all')\n",
    "results.clear_all()\n",
    "results.consulting_results"
   ]
  },
  {
   "cell_type": "code",
   "execution_count": 16,
   "metadata": {},
   "outputs": [
    {
     "ename": "TypeError",
     "evalue": "ConsultingResultRepo.put() missing 1 required positional argument: 'ConsultingResult'",
     "output_type": "error",
     "traceback": [
      "\u001b[1;31m---------------------------------------------------------------------------\u001b[0m",
      "\u001b[1;31mTypeError\u001b[0m                                 Traceback (most recent call last)",
      "Cell \u001b[1;32mIn[16], line 1\u001b[0m\n\u001b[1;32m----> 1\u001b[0m \u001b[43mConsultingResultRepo\u001b[49m\u001b[38;5;241;43m.\u001b[39;49m\u001b[43mput\u001b[49m\u001b[43m(\u001b[49m\u001b[43mConsultingResult\u001b[49m\u001b[43m(\u001b[49m\u001b[43mshort_name\u001b[49m\u001b[38;5;241;43m=\u001b[39;49m\u001b[38;5;124;43m\"\u001b[39;49m\u001b[38;5;124;43mBestRes\u001b[39;49m\u001b[38;5;124;43m\"\u001b[39;49m\u001b[43m,\u001b[49m\u001b[43m \u001b[49m\u001b[43mname\u001b[49m\u001b[38;5;241;43m=\u001b[39;49m\u001b[38;5;124;43m\"\u001b[39;49m\u001b[38;5;124;43mResultOfAll\u001b[39;49m\u001b[38;5;124;43m\"\u001b[39;49m\u001b[43m,\u001b[49m\u001b[43m \u001b[49m\u001b[43mvalue\u001b[49m\u001b[38;5;241;43m=\u001b[39;49m\u001b[38;5;241;43m100\u001b[39;49m\u001b[43m,\u001b[49m\u001b[43m \u001b[49m\u001b[43munits\u001b[49m\u001b[38;5;241;43m=\u001b[39;49m\u001b[38;5;124;43m\"\u001b[39;49m\u001b[38;5;124;43mNone needed.\u001b[39;49m\u001b[38;5;124;43m\"\u001b[39;49m\u001b[43m,\u001b[49m\u001b[43m \u001b[49m\u001b[43mdisplay_units\u001b[49m\u001b[38;5;241;43m=\u001b[39;49m\u001b[38;5;124;43m\"\u001b[39;49m\u001b[38;5;124;43m!!!\u001b[39;49m\u001b[38;5;124;43m\"\u001b[39;49m\u001b[43m)\u001b[49m\u001b[43m)\u001b[49m\n",
      "\u001b[1;31mTypeError\u001b[0m: ConsultingResultRepo.put() missing 1 required positional argument: 'ConsultingResult'"
     ]
    }
   ],
   "source": [
    "ConsultingResultRepo.put(result: ConsultingResult(short_name=\"BestRes\", name=\"ResultOfAll\", value=100, units=\"None needed.\", display_units=\"!!!\"))"
   ]
  },
  {
   "cell_type": "code",
   "execution_count": 17,
   "metadata": {},
   "outputs": [],
   "source": [
    "r = ConsultingResultRepo(\n",
    "    consulting_results=[a, b, c]\n",
    ")"
   ]
  },
  {
   "cell_type": "code",
   "execution_count": 18,
   "metadata": {},
   "outputs": [
    {
     "name": "stdout",
     "output_type": "stream",
     "text": [
      "[ConsultingResult(short_name='n_sess', name='Number of Sessions', value=100.0, units='Sessions', display_units='Sess'),\n",
      " ConsultingResult(short_name='tot_hours', name='Total Number of Hours', value=10.5, units='Hour', display_units='Hrs'),\n",
      " ConsultingResult(short_name='n_sc', name='Number of Short Chats', value=50.0, units='Session', display_units='Sess')]\n"
     ]
    }
   ],
   "source": [
    "r.list_all()"
   ]
  },
  {
   "cell_type": "code",
   "execution_count": 58,
   "metadata": {},
   "outputs": [],
   "source": [
    "results.save()"
   ]
  },
  {
   "cell_type": "code",
   "execution_count": 108,
   "metadata": {},
   "outputs": [
    {
     "name": "stdout",
     "output_type": "stream",
     "text": [
      "[ConsultingResult(short_name='n_sess', name='Number of Sessions', value=100.0, units='Sessions', display_units='Sess'),\n",
      " ConsultingResult(short_name='tot_hours', name='Total Number of Hours', value=10.5, units='Hour', display_units='Hrs')]\n"
     ]
    }
   ],
   "source": [
    "new_results = ConsultingResultRepo.connect(path='data')\n",
    "new_results.list_all()"
   ]
  },
  {
   "cell_type": "code",
   "execution_count": 109,
   "metadata": {},
   "outputs": [
    {
     "data": {
      "text/plain": [
       "ConsultingResult(short_name='n_sess', name='Number of Sessions', value=100.0, units='Sessions', display_units='Sess')"
      ]
     },
     "execution_count": 109,
     "metadata": {},
     "output_type": "execute_result"
    }
   ],
   "source": [
    "new_results.get('n_sess')"
   ]
  }
 ],
 "metadata": {
  "kernelspec": {
   "display_name": "ibots-site",
   "language": "python",
   "name": "python3"
  },
  "language_info": {
   "codemirror_mode": {
    "name": "ipython",
    "version": 3
   },
   "file_extension": ".py",
   "mimetype": "text/x-python",
   "name": "python",
   "nbconvert_exporter": "python",
   "pygments_lexer": "ipython3",
   "version": "3.12.2"
  }
 },
 "nbformat": 4,
 "nbformat_minor": 2
}
