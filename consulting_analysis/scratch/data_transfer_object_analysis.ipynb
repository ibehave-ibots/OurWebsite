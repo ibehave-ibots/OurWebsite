{
 "cells": [
  {
   "cell_type": "code",
   "execution_count": 1,
   "metadata": {},
   "outputs": [],
   "source": [
    "from pydantic import BaseModel"
   ]
  },
  {
   "cell_type": "code",
   "execution_count": 3,
   "metadata": {},
   "outputs": [],
   "source": [
    "class ConsultingResult(BaseModel):\n",
    "    short_name: str\n",
    "    name: str\n",
    "    value: float\n",
    "    units: str\n",
    "    display_units: str"
   ]
  },
  {
   "cell_type": "code",
   "execution_count": 26,
   "metadata": {},
   "outputs": [],
   "source": [
    "from typing import Any, Dict, Tuple\n",
    "from pprint import pprint\n",
    "\n",
    "class ConsultingResultRepo(BaseModel):\n",
    "    consulting_results: list[ConsultingResult]\n",
    "\n",
    "    def clear_all(self) -> None: \n",
    "        ...\n",
    "\n",
    "    def put(self, ConsultingResult) -> None:\n",
    "        self.consulting_results.append(ConsultingResult)\n",
    "\n",
    "    def list_all(self) -> list[ConsultingResult]:\n",
    "        pprint(self.consulting_results)\n",
    "\n",
    "    def get(self, str) -> ConsultingResult:\n",
    "        ...\n",
    "    \n",
    "    def to_dict(self) -> Dict[Any, Any]:\n",
    "        ..."
   ]
  },
  {
   "cell_type": "code",
   "execution_count": 27,
   "metadata": {},
   "outputs": [
    {
     "data": {
      "text/plain": [
       "ConsultingResult(short_name='n_sess', name='Number of Sessions', value=100.0, units='Sessions', display_units='Sess')"
      ]
     },
     "execution_count": 27,
     "metadata": {},
     "output_type": "execute_result"
    }
   ],
   "source": [
    "a = ConsultingResult(\n",
    "    short_name='n_sess',\n",
    "    name='Number of Sessions',\n",
    "    value=100,\n",
    "    units='Sessions',\n",
    "    display_units='Sess'\n",
    ")\n",
    "\n",
    "a # value is automatically converted to float from int by pydantic"
   ]
  },
  {
   "cell_type": "code",
   "execution_count": 28,
   "metadata": {},
   "outputs": [
    {
     "data": {
      "text/plain": [
       "ConsultingResult(short_name='tot_hours', name='Total Number of Hours', value=10.5, units='Hour', display_units='Hrs')"
      ]
     },
     "execution_count": 28,
     "metadata": {},
     "output_type": "execute_result"
    }
   ],
   "source": [
    "b = ConsultingResult(\n",
    "    short_name='tot_hours',\n",
    "    name='Total Number of Hours',\n",
    "    value=10.5,\n",
    "    units='Hour',\n",
    "    display_units='Hrs'\n",
    ")\n",
    "\n",
    "b"
   ]
  },
  {
   "cell_type": "code",
   "execution_count": 29,
   "metadata": {},
   "outputs": [
    {
     "data": {
      "text/plain": [
       "ConsultingResultRepo(consulting_results=[ConsultingResult(short_name='n_sess', name='Number of Sessions', value=100.0, units='Sessions', display_units='Sess'), ConsultingResult(short_name='tot_hours', name='Total Number of Hours', value=10.5, units='Hour', display_units='Hrs')])"
      ]
     },
     "execution_count": 29,
     "metadata": {},
     "output_type": "execute_result"
    }
   ],
   "source": [
    "results = ConsultingResultRepo(\n",
    "    consulting_results=(a, b)\n",
    ")\n",
    "results\n",
    "# Tuple automatically converted to List"
   ]
  },
  {
   "cell_type": "code",
   "execution_count": 30,
   "metadata": {},
   "outputs": [
    {
     "data": {
      "text/plain": [
       "ConsultingResultRepo(consulting_results=[ConsultingResult(short_name='n_sess', name='Number of Sessions', value=100.0, units='Sessions', display_units='Sess'), ConsultingResult(short_name='tot_hours', name='Total Number of Hours', value=10.5, units='Hour', display_units='Hrs'), ConsultingResult(short_name='n_sc', name='Number of Short Chats', value=50.0, units='Session', display_units='Sess')])"
      ]
     },
     "execution_count": 30,
     "metadata": {},
     "output_type": "execute_result"
    }
   ],
   "source": [
    "# let's add a new consulting result to the repo using the put method\n",
    "c = ConsultingResult(\n",
    "    short_name='n_sc',\n",
    "    name='Number of Short Chats',\n",
    "    value=50,\n",
    "    units='Session',\n",
    "    display_units='Sess'\n",
    ")\n",
    "\n",
    "results.put(c)\n",
    "results"
   ]
  },
  {
   "cell_type": "code",
   "execution_count": 31,
   "metadata": {},
   "outputs": [
    {
     "name": "stdout",
     "output_type": "stream",
     "text": [
      "[ConsultingResult(short_name='n_sess', name='Number of Sessions', value=100.0, units='Sessions', display_units='Sess'),\n",
      " ConsultingResult(short_name='tot_hours', name='Total Number of Hours', value=10.5, units='Hour', display_units='Hrs'),\n",
      " ConsultingResult(short_name='n_sc', name='Number of Short Chats', value=50.0, units='Session', display_units='Sess')]\n"
     ]
    }
   ],
   "source": [
    "# display all results using list_all method\n",
    "results.list_all()"
   ]
  }
 ],
 "metadata": {
  "kernelspec": {
   "display_name": "ibots-site",
   "language": "python",
   "name": "python3"
  },
  "language_info": {
   "codemirror_mode": {
    "name": "ipython",
    "version": 3
   },
   "file_extension": ".py",
   "mimetype": "text/x-python",
   "name": "python",
   "nbconvert_exporter": "python",
   "pygments_lexer": "ipython3",
   "version": "3.12.2"
  }
 },
 "nbformat": 4,
 "nbformat_minor": 2
}
