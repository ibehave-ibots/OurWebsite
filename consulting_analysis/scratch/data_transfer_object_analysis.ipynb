{
 "cells": [
  {
   "cell_type": "code",
   "execution_count": 1,
   "metadata": {},
   "outputs": [],
   "source": [
    "from pydantic import BaseModel"
   ]
  },
  {
   "cell_type": "code",
   "execution_count": 3,
   "metadata": {},
   "outputs": [],
   "source": [
    "class ConsultingResult(BaseModel):\n",
    "    short_name: str\n",
    "    name: str\n",
    "    value: float\n",
    "    units: str\n",
    "    display_units: str"
   ]
  },
  {
   "cell_type": "code",
   "execution_count": 56,
   "metadata": {},
   "outputs": [],
   "source": [
    "from typing import Any, Dict, Tuple\n",
    "from pprint import pprint\n",
    "\n",
    "class ConsultingResultRepo(BaseModel):\n",
    "    consulting_results: list[ConsultingResult]\n",
    "\n",
    "    def clear_all(self) -> None: \n",
    "        ...\n",
    "\n",
    "    def put(self, ConsultingResult) -> None:\n",
    "        self.consulting_results.append(ConsultingResult)\n",
    "\n",
    "    def list_all(self) -> list[ConsultingResult]:\n",
    "        pprint(self.consulting_results)\n",
    "\n",
    "    def get(self, s_name: str) -> ConsultingResult:\n",
    "        for result in self.consulting_results:\n",
    "            if s_name in result.short_name:\n",
    "                return result\n",
    "    \n",
    "    def to_dict(self) -> Dict[Any, Any]:\n",
    "        return self.model_dump()"
   ]
  },
  {
   "cell_type": "code",
   "execution_count": 57,
   "metadata": {},
   "outputs": [
    {
     "data": {
      "text/plain": [
       "ConsultingResult(short_name='n_sess', name='Number of Sessions', value=100.0, units='Sessions', display_units='Sess')"
      ]
     },
     "execution_count": 57,
     "metadata": {},
     "output_type": "execute_result"
    }
   ],
   "source": [
    "a = ConsultingResult(\n",
    "    short_name='n_sess',\n",
    "    name='Number of Sessions',\n",
    "    value=100,\n",
    "    units='Sessions',\n",
    "    display_units='Sess'\n",
    ")\n",
    "\n",
    "a # value is automatically converted to float from int by pydantic"
   ]
  },
  {
   "cell_type": "code",
   "execution_count": 58,
   "metadata": {},
   "outputs": [
    {
     "data": {
      "text/plain": [
       "ConsultingResult(short_name='tot_hours', name='Total Number of Hours', value=10.5, units='Hour', display_units='Hrs')"
      ]
     },
     "execution_count": 58,
     "metadata": {},
     "output_type": "execute_result"
    }
   ],
   "source": [
    "b = ConsultingResult(\n",
    "    short_name='tot_hours',\n",
    "    name='Total Number of Hours',\n",
    "    value=10.5,\n",
    "    units='Hour',\n",
    "    display_units='Hrs'\n",
    ")\n",
    "\n",
    "b"
   ]
  },
  {
   "cell_type": "code",
   "execution_count": 59,
   "metadata": {},
   "outputs": [
    {
     "data": {
      "text/plain": [
       "ConsultingResultRepo(consulting_results=[ConsultingResult(short_name='n_sess', name='Number of Sessions', value=100.0, units='Sessions', display_units='Sess'), ConsultingResult(short_name='tot_hours', name='Total Number of Hours', value=10.5, units='Hour', display_units='Hrs')])"
      ]
     },
     "execution_count": 59,
     "metadata": {},
     "output_type": "execute_result"
    }
   ],
   "source": [
    "results = ConsultingResultRepo(\n",
    "    consulting_results=(a, b)\n",
    ")\n",
    "results\n",
    "# Tuple automatically converted to List"
   ]
  },
  {
   "cell_type": "code",
   "execution_count": 60,
   "metadata": {},
   "outputs": [
    {
     "data": {
      "text/plain": [
       "ConsultingResultRepo(consulting_results=[ConsultingResult(short_name='n_sess', name='Number of Sessions', value=100.0, units='Sessions', display_units='Sess'), ConsultingResult(short_name='tot_hours', name='Total Number of Hours', value=10.5, units='Hour', display_units='Hrs'), ConsultingResult(short_name='n_sc', name='Number of Short Chats', value=50.0, units='Session', display_units='Sess')])"
      ]
     },
     "execution_count": 60,
     "metadata": {},
     "output_type": "execute_result"
    }
   ],
   "source": [
    "# let's add a new consulting result to the repo using the put method\n",
    "c = ConsultingResult(\n",
    "    short_name='n_sc',\n",
    "    name='Number of Short Chats',\n",
    "    value=50,\n",
    "    units='Session',\n",
    "    display_units='Sess'\n",
    ")\n",
    "\n",
    "results.put(c)\n",
    "results"
   ]
  },
  {
   "cell_type": "code",
   "execution_count": 61,
   "metadata": {},
   "outputs": [
    {
     "name": "stdout",
     "output_type": "stream",
     "text": [
      "[ConsultingResult(short_name='n_sess', name='Number of Sessions', value=100.0, units='Sessions', display_units='Sess'),\n",
      " ConsultingResult(short_name='tot_hours', name='Total Number of Hours', value=10.5, units='Hour', display_units='Hrs'),\n",
      " ConsultingResult(short_name='n_sc', name='Number of Short Chats', value=50.0, units='Session', display_units='Sess')]\n"
     ]
    }
   ],
   "source": [
    "# display all results using list_all method\n",
    "results.list_all()"
   ]
  },
  {
   "cell_type": "code",
   "execution_count": 62,
   "metadata": {},
   "outputs": [
    {
     "data": {
      "text/plain": [
       "ConsultingResult(short_name='n_sess', name='Number of Sessions', value=100.0, units='Sessions', display_units='Sess')"
      ]
     },
     "execution_count": 62,
     "metadata": {},
     "output_type": "execute_result"
    }
   ],
   "source": [
    "# get a result by specifying the short name (e.g., n_sess)\n",
    "results.get('n_sess')"
   ]
  },
  {
   "cell_type": "code",
   "execution_count": 63,
   "metadata": {},
   "outputs": [
    {
     "data": {
      "text/plain": [
       "{'consulting_results': [{'short_name': 'n_sess',\n",
       "   'name': 'Number of Sessions',\n",
       "   'value': 100.0,\n",
       "   'units': 'Sessions',\n",
       "   'display_units': 'Sess'},\n",
       "  {'short_name': 'tot_hours',\n",
       "   'name': 'Total Number of Hours',\n",
       "   'value': 10.5,\n",
       "   'units': 'Hour',\n",
       "   'display_units': 'Hrs'},\n",
       "  {'short_name': 'n_sc',\n",
       "   'name': 'Number of Short Chats',\n",
       "   'value': 50.0,\n",
       "   'units': 'Session',\n",
       "   'display_units': 'Sess'}]}"
      ]
     },
     "execution_count": 63,
     "metadata": {},
     "output_type": "execute_result"
    }
   ],
   "source": [
    "# get a dictionary of the table\n",
    "results.to_dict()"
   ]
  },
  {
   "cell_type": "code",
   "execution_count": 68,
   "metadata": {},
   "outputs": [
    {
     "data": {
      "text/html": [
       "<div>\n",
       "<style scoped>\n",
       "    .dataframe tbody tr th:only-of-type {\n",
       "        vertical-align: middle;\n",
       "    }\n",
       "\n",
       "    .dataframe tbody tr th {\n",
       "        vertical-align: top;\n",
       "    }\n",
       "\n",
       "    .dataframe thead th {\n",
       "        text-align: right;\n",
       "    }\n",
       "</style>\n",
       "<table border=\"1\" class=\"dataframe\">\n",
       "  <thead>\n",
       "    <tr style=\"text-align: right;\">\n",
       "      <th></th>\n",
       "      <th>short_name</th>\n",
       "      <th>name</th>\n",
       "      <th>value</th>\n",
       "      <th>units</th>\n",
       "      <th>display_units</th>\n",
       "    </tr>\n",
       "  </thead>\n",
       "  <tbody>\n",
       "    <tr>\n",
       "      <th>0</th>\n",
       "      <td>n_sess</td>\n",
       "      <td>Number of Sessions</td>\n",
       "      <td>100.0</td>\n",
       "      <td>Sessions</td>\n",
       "      <td>Sess</td>\n",
       "    </tr>\n",
       "    <tr>\n",
       "      <th>1</th>\n",
       "      <td>tot_hours</td>\n",
       "      <td>Total Number of Hours</td>\n",
       "      <td>10.5</td>\n",
       "      <td>Hour</td>\n",
       "      <td>Hrs</td>\n",
       "    </tr>\n",
       "    <tr>\n",
       "      <th>2</th>\n",
       "      <td>n_sc</td>\n",
       "      <td>Number of Short Chats</td>\n",
       "      <td>50.0</td>\n",
       "      <td>Session</td>\n",
       "      <td>Sess</td>\n",
       "    </tr>\n",
       "  </tbody>\n",
       "</table>\n",
       "</div>"
      ],
      "text/plain": [
       "  short_name                   name  value     units display_units\n",
       "0     n_sess     Number of Sessions  100.0  Sessions          Sess\n",
       "1  tot_hours  Total Number of Hours   10.5      Hour           Hrs\n",
       "2       n_sc  Number of Short Chats   50.0   Session          Sess"
      ]
     },
     "execution_count": 68,
     "metadata": {},
     "output_type": "execute_result"
    }
   ],
   "source": [
    "# testing conversion to pandas dataframe\n",
    "\n",
    "import pandas as pd\n",
    "pd.DataFrame(results.to_dict()['consulting_results'])"
   ]
  }
 ],
 "metadata": {
  "kernelspec": {
   "display_name": "ibots-site",
   "language": "python",
   "name": "python3"
  },
  "language_info": {
   "codemirror_mode": {
    "name": "ipython",
    "version": 3
   },
   "file_extension": ".py",
   "mimetype": "text/x-python",
   "name": "python",
   "nbconvert_exporter": "python",
   "pygments_lexer": "ipython3",
   "version": "3.12.2"
  }
 },
 "nbformat": 4,
 "nbformat_minor": 2
}
