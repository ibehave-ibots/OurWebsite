{
 "cells": [
  {
   "cell_type": "code",
   "execution_count": 1,
   "metadata": {},
   "outputs": [],
   "source": [
    "from pydantic import BaseModel"
   ]
  },
  {
   "cell_type": "code",
   "execution_count": 3,
   "metadata": {},
   "outputs": [],
   "source": [
    "class ConsultingResult(BaseModel):\n",
    "    short_name: str\n",
    "    name: str\n",
    "    value: float\n",
    "    units: str\n",
    "    display_units: str"
   ]
  },
  {
   "cell_type": "code",
   "execution_count": 6,
   "metadata": {},
   "outputs": [],
   "source": [
    "from typing import Any, Dict, Tuple\n",
    "\n",
    "\n",
    "class ConsultingResultRepo(BaseModel):\n",
    "    consulting_results: Tuple[ConsultingResult, ...]\n",
    "\n",
    "    def clear_all(self) -> None: \n",
    "        ...\n",
    "\n",
    "    def put(self, ConsultingResult) -> None:\n",
    "        ...\n",
    "\n",
    "    def list_all(self) -> Tuple[ConsultingResult, ...]:\n",
    "        ...\n",
    "\n",
    "    def get(self, str) -> ConsultingResult:\n",
    "        ...\n",
    "    \n",
    "    def to_dict(self) -> Dict[Any, Any]:\n",
    "        ..."
   ]
  }
 ],
 "metadata": {
  "kernelspec": {
   "display_name": "ibots-site",
   "language": "python",
   "name": "python3"
  },
  "language_info": {
   "codemirror_mode": {
    "name": "ipython",
    "version": 3
   },
   "file_extension": ".py",
   "mimetype": "text/x-python",
   "name": "python",
   "nbconvert_exporter": "python",
   "pygments_lexer": "ipython3",
   "version": "3.12.2"
  }
 },
 "nbformat": 4,
 "nbformat_minor": 2
}
