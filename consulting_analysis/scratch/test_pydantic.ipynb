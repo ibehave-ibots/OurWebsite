{
 "cells": [
  {
   "cell_type": "code",
   "execution_count": 1,
   "metadata": {},
   "outputs": [
    {
     "name": "stdout",
     "output_type": "stream",
     "text": [
      "Collecting pydantic\n",
      "  Downloading pydantic-2.7.3-py3-none-any.whl.metadata (108 kB)\n",
      "     ---------------------------------------- 0.0/109.0 kB ? eta -:--:--\n",
      "     ------------- ----------------------- 41.0/109.0 kB 991.0 kB/s eta 0:00:01\n",
      "     ----------------------------------- -- 102.4/109.0 kB 2.0 MB/s eta 0:00:01\n",
      "     ------------------------------------ 109.0/109.0 kB 789.8 kB/s eta 0:00:00\n",
      "Collecting annotated-types>=0.4.0 (from pydantic)\n",
      "  Using cached annotated_types-0.7.0-py3-none-any.whl.metadata (15 kB)\n",
      "Collecting pydantic-core==2.18.4 (from pydantic)\n",
      "  Downloading pydantic_core-2.18.4-cp312-none-win_amd64.whl.metadata (6.7 kB)\n",
      "Requirement already satisfied: typing-extensions>=4.6.1 in c:\\users\\sangeetha\\anaconda3\\envs\\ibots-site\\lib\\site-packages (from pydantic) (4.11.0)\n",
      "Downloading pydantic-2.7.3-py3-none-any.whl (409 kB)\n",
      "   ---------------------------------------- 0.0/409.6 kB ? eta -:--:--\n",
      "   ---------------- ----------------------- 163.8/409.6 kB 5.0 MB/s eta 0:00:01\n",
      "   ---------------------------------------- 409.6/409.6 kB 4.2 MB/s eta 0:00:00\n",
      "Downloading pydantic_core-2.18.4-cp312-none-win_amd64.whl (1.9 MB)\n",
      "   ---------------------------------------- 0.0/1.9 MB ? eta -:--:--\n",
      "   ----- ---------------------------------- 0.2/1.9 MB 7.4 MB/s eta 0:00:01\n",
      "   --------------- ------------------------ 0.7/1.9 MB 11.7 MB/s eta 0:00:01\n",
      "   --------------------------------- ------ 1.6/1.9 MB 12.8 MB/s eta 0:00:01\n",
      "   ---------------------------------------- 1.9/1.9 MB 12.1 MB/s eta 0:00:00\n",
      "Using cached annotated_types-0.7.0-py3-none-any.whl (13 kB)\n",
      "Installing collected packages: pydantic-core, annotated-types, pydantic\n",
      "Successfully installed annotated-types-0.7.0 pydantic-2.7.3 pydantic-core-2.18.4\n"
     ]
    }
   ],
   "source": [
    "# !pip install pydantic"
   ]
  },
  {
   "cell_type": "code",
   "execution_count": 2,
   "metadata": {},
   "outputs": [
    {
     "name": "stdout",
     "output_type": "stream",
     "text": [
      "datetime.datetime(2020, 1, 2, 3, 4, 5, tzinfo=TzInfo(UTC))\n",
      "(10, 20)\n"
     ]
    }
   ],
   "source": [
    "from datetime import datetime\n",
    "from typing import Tuple\n",
    "\n",
    "from pydantic import BaseModel\n",
    "\n",
    "\n",
    "class Delivery(BaseModel):\n",
    "    timestamp: datetime\n",
    "    dimensions: Tuple[int, int]\n",
    "\n",
    "\n",
    "m = Delivery(timestamp='2020-01-02T03:04:05Z', dimensions=['10', '20'])\n",
    "print(repr(m.timestamp))\n",
    "print(m.dimensions)"
   ]
  },
  {
   "cell_type": "code",
   "execution_count": 3,
   "metadata": {},
   "outputs": [
    {
     "data": {
      "text/plain": [
       "datetime.datetime(2020, 1, 2, 3, 4, 5, tzinfo=TzInfo(UTC))"
      ]
     },
     "execution_count": 3,
     "metadata": {},
     "output_type": "execute_result"
    }
   ],
   "source": [
    "m.timestamp"
   ]
  },
  {
   "cell_type": "code",
   "execution_count": 4,
   "metadata": {},
   "outputs": [
    {
     "data": {
      "text/plain": [
       "(10, 20)"
      ]
     },
     "execution_count": 4,
     "metadata": {},
     "output_type": "execute_result"
    }
   ],
   "source": [
    "m.dimensions"
   ]
  },
  {
   "cell_type": "code",
   "execution_count": 5,
   "metadata": {},
   "outputs": [
    {
     "data": {
      "text/plain": [
       "'{\"timestamp\":\"2020-01-02T03:04:05Z\",\"dimensions\":[10,20]}'"
      ]
     },
     "execution_count": 5,
     "metadata": {},
     "output_type": "execute_result"
    }
   ],
   "source": [
    "m.json()"
   ]
  },
  {
   "cell_type": "code",
   "execution_count": 7,
   "metadata": {},
   "outputs": [
    {
     "data": {
      "text/plain": [
       "Delivery(timestamp=datetime.datetime(2020, 1, 2, 3, 4, 5, tzinfo=TzInfo(UTC)), dimensions=(10, 20))"
      ]
     },
     "execution_count": 7,
     "metadata": {},
     "output_type": "execute_result"
    }
   ],
   "source": [
    "m2 = Delivery.parse_raw('{\"timestamp\":\"2020-01-02T03:04:05Z\",\"dimensions\":[10,20]}')\n",
    "m2"
   ]
  },
  {
   "cell_type": "code",
   "execution_count": 8,
   "metadata": {},
   "outputs": [
    {
     "data": {
      "text/plain": [
       "datetime.datetime(2020, 1, 2, 3, 4, 5, tzinfo=TzInfo(UTC))"
      ]
     },
     "execution_count": 8,
     "metadata": {},
     "output_type": "execute_result"
    }
   ],
   "source": [
    "m2.timestamp"
   ]
  },
  {
   "cell_type": "code",
   "execution_count": 49,
   "metadata": {},
   "outputs": [],
   "source": [
    "from pathlib import Path\n",
    "import json\n",
    "\n",
    "\n",
    "class ConsultingSession(BaseModel):\n",
    "    date: datetime\n",
    "    name: str\n",
    "    type: str\n",
    "    consultant: str\n",
    "    duration_mins: int \n",
    "\n",
    "\n",
    "class ConsultingSessionList(BaseModel):\n",
    "    sessions: Tuple[ConsultingSession, ...]\n",
    "\n",
    "    @classmethod\n",
    "    def read_from_paths(cls, paths: list[Path]) -> 'ConsultingSessionList':\n",
    "        sessions = []\n",
    "        for path in paths:\n",
    "            session = ConsultingSession.parse_file(path)\n",
    "            sessions.append(session)\n",
    "        \n",
    "        return ConsultingSessionList(\n",
    "            sessions=sessions\n",
    "        )\n",
    "    \n",
    "    \n",
    "    def write_to_directory(self, path: Path) -> None:\n",
    "        if path.exists():\n",
    "            assert path.is_dir()\n",
    "        \n",
    "        path.mkdir(parents=True, exist_ok=True)\n",
    "        for i, session in enumerate(self.sessions):\n",
    "            json_text = session.json()\n",
    "            json_text_pretty = json.dumps(json.loads(json_text), indent=3)\n",
    "            path.joinpath(f'{i}.json').write_text(json_text_pretty)\n",
    "\n",
    "            \n",
    "\n",
    "        \n",
    "\n"
   ]
  },
  {
   "cell_type": "code",
   "execution_count": null,
   "metadata": {},
   "outputs": [],
   "source": []
  },
  {
   "cell_type": "code",
   "execution_count": 50,
   "metadata": {},
   "outputs": [],
   "source": [
    "c = ConsultingSession(\n",
    "    date=\"2024-01-01\",\n",
    "    name=\"John Smith\",\n",
    "    type='Short Chat',\n",
    "    consultant='Nick',\n",
    "    duration_mins=250\n",
    "\n",
    ")"
   ]
  },
  {
   "cell_type": "code",
   "execution_count": 51,
   "metadata": {},
   "outputs": [],
   "source": [
    "d = ConsultingSession(\n",
    "    date=\"2024-01-01\",\n",
    "    name=\"Jon Smith\",\n",
    "    type='Hands-on',\n",
    "    consultant='Nick',\n",
    "    duration_mins=250\n",
    "\n",
    ")"
   ]
  },
  {
   "cell_type": "code",
   "execution_count": 46,
   "metadata": {},
   "outputs": [],
   "source": [
    "e = ConsultingSessionList(\n",
    "    sessions = [c, d]\n",
    ")"
   ]
  },
  {
   "cell_type": "code",
   "execution_count": 47,
   "metadata": {},
   "outputs": [],
   "source": [
    "e.write_to_directory(Path('./test_data'))"
   ]
  },
  {
   "cell_type": "code",
   "execution_count": 53,
   "metadata": {},
   "outputs": [
    {
     "data": {
      "text/plain": [
       "ConsultingSessionList(sessions=(ConsultingSession(date=datetime.datetime(2020, 1, 1, 0, 0), name='Joe Smith', type='Short Chat', consultant='Nick', duration_mins=250), ConsultingSession(date=datetime.datetime(2024, 1, 1, 0, 0), name='Jon Smith', type='Hands-on', consultant='Nick', duration_mins=250)))"
      ]
     },
     "execution_count": 53,
     "metadata": {},
     "output_type": "execute_result"
    }
   ],
   "source": [
    "ConsultingSessionList.read_from_paths(Path('./test_data').glob('*.json'))"
   ]
  },
  {
   "cell_type": "code",
   "execution_count": 31,
   "metadata": {},
   "outputs": [
    {
     "data": {
      "text/plain": [
       "(ConsultingSession(date=datetime.datetime(2024, 1, 1, 0, 0), name='John Smith', type='Short Chat', consultant='Nick', duration_mins=250),\n",
       " ConsultingSession(date=datetime.datetime(2024, 1, 1, 0, 0), name='Jon Smith', type='Hands-on', consultant='Nick', duration_mins=250))"
      ]
     },
     "execution_count": 31,
     "metadata": {},
     "output_type": "execute_result"
    }
   ],
   "source": [
    "e.sessions"
   ]
  },
  {
   "cell_type": "code",
   "execution_count": 17,
   "metadata": {},
   "outputs": [
    {
     "data": {
      "text/plain": [
       "datetime.datetime(2024, 1, 1, 0, 0)"
      ]
     },
     "execution_count": 17,
     "metadata": {},
     "output_type": "execute_result"
    }
   ],
   "source": [
    "c.date"
   ]
  },
  {
   "cell_type": "code",
   "execution_count": 18,
   "metadata": {},
   "outputs": [
    {
     "data": {
      "text/plain": [
       "'John Smith'"
      ]
     },
     "execution_count": 18,
     "metadata": {},
     "output_type": "execute_result"
    }
   ],
   "source": [
    "c.name"
   ]
  },
  {
   "cell_type": "code",
   "execution_count": 19,
   "metadata": {},
   "outputs": [
    {
     "data": {
      "text/plain": [
       "250"
      ]
     },
     "execution_count": 19,
     "metadata": {},
     "output_type": "execute_result"
    }
   ],
   "source": [
    "c.duration_mins"
   ]
  },
  {
   "cell_type": "code",
   "execution_count": null,
   "metadata": {},
   "outputs": [],
   "source": []
  }
 ],
 "metadata": {
  "kernelspec": {
   "display_name": "ibots-site",
   "language": "python",
   "name": "python3"
  },
  "language_info": {
   "codemirror_mode": {
    "name": "ipython",
    "version": 3
   },
   "file_extension": ".py",
   "mimetype": "text/x-python",
   "name": "python",
   "nbconvert_exporter": "python",
   "pygments_lexer": "ipython3",
   "version": "3.12.2"
  }
 },
 "nbformat": 4,
 "nbformat_minor": 2
}
