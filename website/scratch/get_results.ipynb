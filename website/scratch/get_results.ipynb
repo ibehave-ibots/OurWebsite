{
 "cells": [
  {
   "cell_type": "code",
   "execution_count": 1,
   "metadata": {},
   "outputs": [
    {
     "name": "stdout",
     "output_type": "stream",
     "text": [
      "Collecting python-dotenv\n",
      "  Using cached python_dotenv-1.0.1-py3-none-any.whl.metadata (23 kB)\n",
      "Using cached python_dotenv-1.0.1-py3-none-any.whl (19 kB)\n",
      "Installing collected packages: python-dotenv\n",
      "Successfully installed python-dotenv-1.0.1\n",
      "Note: you may need to restart the kernel to use updated packages.\n"
     ]
    }
   ],
   "source": [
    "%pip install python-dotenv"
   ]
  },
  {
   "cell_type": "code",
   "execution_count": 2,
   "metadata": {},
   "outputs": [
    {
     "name": "stdout",
     "output_type": "stream",
     "text": [
      "Collecting fsspec\n",
      "  Downloading fsspec-2024.6.0-py3-none-any.whl.metadata (11 kB)\n",
      "Collecting webdav4[fsspec]\n",
      "  Downloading webdav4-0.9.8-py3-none-any.whl.metadata (4.4 kB)\n",
      "Collecting httpx<1.0.0,>=0.20 (from webdav4[fsspec])\n",
      "  Using cached httpx-0.27.0-py3-none-any.whl.metadata (7.2 kB)\n",
      "Requirement already satisfied: python-dateutil>=2.8.1 in c:\\users\\nickdg\\miniconda3\\envs\\ibots-site\\lib\\site-packages (from webdav4[fsspec]) (2.9.0)\n",
      "Collecting anyio (from httpx<1.0.0,>=0.20->webdav4[fsspec])\n",
      "  Downloading anyio-4.4.0-py3-none-any.whl.metadata (4.6 kB)\n",
      "Collecting certifi (from httpx<1.0.0,>=0.20->webdav4[fsspec])\n",
      "  Downloading certifi-2024.6.2-py3-none-any.whl.metadata (2.2 kB)\n",
      "Collecting httpcore==1.* (from httpx<1.0.0,>=0.20->webdav4[fsspec])\n",
      "  Using cached httpcore-1.0.5-py3-none-any.whl.metadata (20 kB)\n",
      "Collecting idna (from httpx<1.0.0,>=0.20->webdav4[fsspec])\n",
      "  Using cached idna-3.7-py3-none-any.whl.metadata (9.9 kB)\n",
      "Collecting sniffio (from httpx<1.0.0,>=0.20->webdav4[fsspec])\n",
      "  Using cached sniffio-1.3.1-py3-none-any.whl.metadata (3.9 kB)\n",
      "Collecting h11<0.15,>=0.13 (from httpcore==1.*->httpx<1.0.0,>=0.20->webdav4[fsspec])\n",
      "  Using cached h11-0.14.0-py3-none-any.whl.metadata (8.2 kB)\n",
      "Requirement already satisfied: six>=1.5 in c:\\users\\nickdg\\miniconda3\\envs\\ibots-site\\lib\\site-packages (from python-dateutil>=2.8.1->webdav4[fsspec]) (1.16.0)\n",
      "Downloading fsspec-2024.6.0-py3-none-any.whl (176 kB)\n",
      "   ---------------------------------------- 0.0/176.9 kB ? eta -:--:--\n",
      "   ---------------------------------------  174.1/176.9 kB 3.5 MB/s eta 0:00:01\n",
      "   ---------------------------------------- 176.9/176.9 kB 2.7 MB/s eta 0:00:00\n",
      "Using cached httpx-0.27.0-py3-none-any.whl (75 kB)\n",
      "Using cached httpcore-1.0.5-py3-none-any.whl (77 kB)\n",
      "Downloading webdav4-0.9.8-py3-none-any.whl (36 kB)\n",
      "Downloading anyio-4.4.0-py3-none-any.whl (86 kB)\n",
      "   ---------------------------------------- 0.0/86.8 kB ? eta -:--:--\n",
      "   ---------------------------------------- 86.8/86.8 kB ? eta 0:00:00\n",
      "Using cached idna-3.7-py3-none-any.whl (66 kB)\n",
      "Using cached sniffio-1.3.1-py3-none-any.whl (10 kB)\n",
      "Downloading certifi-2024.6.2-py3-none-any.whl (164 kB)\n",
      "   ---------------------------------------- 0.0/164.4 kB ? eta -:--:--\n",
      "   ---------------------------------------- 164.4/164.4 kB 9.6 MB/s eta 0:00:00\n",
      "Using cached h11-0.14.0-py3-none-any.whl (58 kB)\n",
      "Installing collected packages: sniffio, idna, h11, fsspec, certifi, httpcore, anyio, httpx, webdav4\n",
      "Successfully installed anyio-4.4.0 certifi-2024.6.2 fsspec-2024.6.0 h11-0.14.0 httpcore-1.0.5 httpx-0.27.0 idna-3.7 sniffio-1.3.1 webdav4-0.9.8\n",
      "Note: you may need to restart the kernel to use updated packages.\n"
     ]
    }
   ],
   "source": [
    "%pip install fsspec webdav4[fsspec]"
   ]
  },
  {
   "cell_type": "code",
   "execution_count": 3,
   "metadata": {},
   "outputs": [],
   "source": [
    "from dotenv import load_dotenv\n",
    "import os\n",
    "from webdav4.fsspec import WebdavFileSystem\n",
    "\n",
    "load_dotenv()\n",
    "USR = os.getenv('RESULTS_DB_USER')\n",
    "fs = WebdavFileSystem(\"https://uni-bonn.sciebo.de/public.php/webdav\", auth=(USR, \"\"))"
   ]
  },
  {
   "cell_type": "code",
   "execution_count": 4,
   "metadata": {},
   "outputs": [
    {
     "data": {
      "text/plain": [
       "ConsultingResultRepo(path=<webdav4.fsspec.WebdavFileSystem object at 0x000001CD062C7CB0>)"
      ]
     },
     "execution_count": 4,
     "metadata": {},
     "output_type": "execute_result"
    }
   ],
   "source": [
    "from results_repo import ConsultingResultRepo\n",
    "repo = ConsultingResultRepo.connect(fs)\n",
    "repo"
   ]
  },
  {
   "cell_type": "code",
   "execution_count": 7,
   "metadata": {},
   "outputs": [],
   "source": [
    "repo.pull()"
   ]
  },
  {
   "cell_type": "code",
   "execution_count": 8,
   "metadata": {},
   "outputs": [
    {
     "data": {
      "text/plain": [
       "[{'short_name': 'average_collaboration_hours',\n",
       "  'name': 'Average collaboration time',\n",
       "  'value': 5.0,\n",
       "  'units': 'Hour',\n",
       "  'display_units': 'Hrs'},\n",
       " {'short_name': 'average_consulting_hours_per_consultant',\n",
       "  'name': 'Average consulting time per consultant',\n",
       "  'value': 37.6,\n",
       "  'units': 'Hour',\n",
       "  'display_units': 'Hrs'},\n",
       " {'short_name': 'num_extended_collaborations',\n",
       "  'name': 'Number of extended collaborations',\n",
       "  'value': 17.0,\n",
       "  'units': 'Researcher',\n",
       "  'display_units': 'Researcher'},\n",
       " {'short_name': 'num_groups',\n",
       "  'name': 'Number of research groups',\n",
       "  'value': 12.0,\n",
       "  'units': 'Group',\n",
       "  'display_units': 'Group'},\n",
       " {'short_name': 'num_researchers',\n",
       "  'name': 'Number of researchers',\n",
       "  'value': 29.0,\n",
       "  'units': 'Researcher',\n",
       "  'display_units': 'Researcher'},\n",
       " {'short_name': 'num_sessions',\n",
       "  'name': 'Number of sessions',\n",
       "  'value': 119.0,\n",
       "  'units': 'Session',\n",
       "  'display_units': 'Session'},\n",
       " {'short_name': 'total_consulting_hours',\n",
       "  'name': 'Total consulting time',\n",
       "  'value': 191.0,\n",
       "  'units': 'Hour',\n",
       "  'display_units': 'Hrs'}]"
      ]
     },
     "execution_count": 8,
     "metadata": {},
     "output_type": "execute_result"
    }
   ],
   "source": [
    "repo.list()"
   ]
  },
  {
   "cell_type": "code",
   "execution_count": 9,
   "metadata": {},
   "outputs": [
    {
     "data": {
      "text/plain": [
       "{'short_name': 'total_consulting_hours',\n",
       " 'name': 'Total consulting time',\n",
       " 'value': 191.0,\n",
       " 'units': 'Hour',\n",
       " 'display_units': 'Hrs'}"
      ]
     },
     "execution_count": 9,
     "metadata": {},
     "output_type": "execute_result"
    }
   ],
   "source": [
    "repo.get('total_consulting_hours')"
   ]
  }
 ],
 "metadata": {
  "kernelspec": {
   "display_name": "ibots-site",
   "language": "python",
   "name": "python3"
  },
  "language_info": {
   "codemirror_mode": {
    "name": "ipython",
    "version": 3
   },
   "file_extension": ".py",
   "mimetype": "text/x-python",
   "name": "python",
   "nbconvert_exporter": "python",
   "pygments_lexer": "ipython3",
   "version": "3.12.2"
  }
 },
 "nbformat": 4,
 "nbformat_minor": 2
}
