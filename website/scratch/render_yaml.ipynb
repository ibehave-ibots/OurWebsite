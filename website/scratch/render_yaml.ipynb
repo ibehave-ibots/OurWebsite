{
 "cells": [
  {
   "cell_type": "code",
   "execution_count": 3,
   "metadata": {},
   "outputs": [],
   "source": [
    "import yaml\n",
    "import jinja2 as j2"
   ]
  },
  {
   "cell_type": "code",
   "execution_count": 4,
   "metadata": {},
   "outputs": [
    {
     "data": {
      "text/plain": [
       "{'a': 3, 'b': 5}"
      ]
     },
     "execution_count": 4,
     "metadata": {},
     "output_type": "execute_result"
    }
   ],
   "source": [
    "text = \"\"\"\n",
    "a: 3\n",
    "b: 5\n",
    "\n",
    "\"\"\"\n",
    "yaml.load(text, Loader=yaml.Loader)"
   ]
  },
  {
   "cell_type": "code",
   "execution_count": 8,
   "metadata": {},
   "outputs": [
    {
     "data": {
      "text/plain": [
       "'hi: 55'"
      ]
     },
     "execution_count": 8,
     "metadata": {},
     "output_type": "execute_result"
    }
   ],
   "source": [
    "j2.Environment().from_string(\"\"\"hi: {{ a }}\"\"\").render({'a': 55})"
   ]
  },
  {
   "cell_type": "code",
   "execution_count": 12,
   "metadata": {},
   "outputs": [
    {
     "name": "stdout",
     "output_type": "stream",
     "text": [
      "a: 5\n",
      "b: 6\n",
      "c:\n",
      "  a:\n",
      "  - hi\n",
      "  - bye\n",
      "\n"
     ]
    }
   ],
   "source": [
    "print(yaml.dump({'a': 5, 'b': 6, 'c': {'a': ['hi', 'bye']}}, Dumper=yaml.Dumper))"
   ]
  },
  {
   "cell_type": "code",
   "execution_count": 14,
   "metadata": {},
   "outputs": [
    {
     "data": {
      "text/plain": [
       "<Template memory:2b6d976d520>"
      ]
     },
     "execution_count": 14,
     "metadata": {},
     "output_type": "execute_result"
    }
   ],
   "source": [
    "text = \"\"\"\n",
    "a: 5\n",
    "b: {{ d }}\n",
    "c: 6\n",
    "\"\"\"\n",
    "\n",
    "template = j2.Environment().from_string(text)\n",
    "\n",
    "\n",
    "# .render({'d': 55})\n",
    "template"
   ]
  },
  {
   "cell_type": "code",
   "execution_count": 21,
   "metadata": {},
   "outputs": [
    {
     "data": {
      "text/plain": [
       "Template(body=[Output(nodes=[TemplateData(data='\\na: 5\\nb: '), Name(name='d', ctx='load'), TemplateData(data='\\nc: 6')])])"
      ]
     },
     "execution_count": 21,
     "metadata": {},
     "output_type": "execute_result"
    }
   ],
   "source": [
    "template = j2.Environment().parse(text)\n",
    "template"
   ]
  },
  {
   "cell_type": "code",
   "execution_count": 22,
   "metadata": {},
   "outputs": [
    {
     "data": {
      "text/plain": [
       "[Output(nodes=[TemplateData(data='\\na: 5\\nb: '), Name(name='d', ctx='load'), TemplateData(data='\\nc: 6')])]"
      ]
     },
     "execution_count": 22,
     "metadata": {},
     "output_type": "execute_result"
    }
   ],
   "source": [
    "template.body[]"
   ]
  },
  {
   "cell_type": "code",
   "execution_count": 26,
   "metadata": {},
   "outputs": [
    {
     "name": "stdout",
     "output_type": "stream",
     "text": [
      "\n",
      "\n",
      "- 5 \n",
      "- 6 \n",
      "- 7 \n"
     ]
    }
   ],
   "source": [
    "text = \"\"\"\n",
    "{% for a in aa %}\n",
    "- {{ a }} \\\n",
    "{% endfor %}\n",
    "\"\"\"\n",
    "\n",
    "print(j2.Environment().from_string(text).render(aa=[5, 6, 7]))"
   ]
  }
 ],
 "metadata": {
  "kernelspec": {
   "display_name": "ibots-site",
   "language": "python",
   "name": "python3"
  },
  "language_info": {
   "codemirror_mode": {
    "name": "ipython",
    "version": 3
   },
   "file_extension": ".py",
   "mimetype": "text/x-python",
   "name": "python",
   "nbconvert_exporter": "python",
   "pygments_lexer": "ipython3",
   "version": "3.12.2"
  }
 },
 "nbformat": 4,
 "nbformat_minor": 2
}
