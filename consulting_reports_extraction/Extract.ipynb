{
 "cells": [
  {
   "cell_type": "code",
   "execution_count": null,
   "metadata": {},
   "outputs": [],
   "source": [
    "%load_ext autoreload\n",
    "%autoreload 2"
   ]
  },
  {
   "cell_type": "code",
   "execution_count": null,
   "metadata": {
    "tags": [
     "parameters"
    ]
   },
   "outputs": [],
   "source": [
    "# setting parameters\n",
    "consultant_name = 'sangeetha'"
   ]
  },
  {
   "cell_type": "code",
   "execution_count": 1,
   "metadata": {},
   "outputs": [],
   "source": [
    "from docx import Document\n",
    "from pathlib import Path\n",
    "from fsspec.implementations.local import LocalFileSystem\n",
    "import sys\n",
    "import os"
   ]
  },
  {
   "cell_type": "markdown",
   "metadata": {},
   "source": [
    "## Reading report (docx file) from local system"
   ]
  },
  {
   "cell_type": "code",
   "execution_count": null,
   "metadata": {},
   "outputs": [],
   "source": [
    "fpath_raw_local = f'data/raw/{consultant_name}.docx'\n",
    "assert Path(fpath_raw_local).exists()\n",
    "print(f'{fpath_raw_local} found.')\n",
    "report = Document(fpath_raw_local)\n",
    "assert len(report.paragraphs) > 0\n",
    "print(f'{fpath_raw_local} read successfully.')"
   ]
  },
  {
   "cell_type": "markdown",
   "metadata": {},
   "source": [
    "## Extract entries from report"
   ]
  },
  {
   "cell_type": "code",
   "execution_count": null,
   "metadata": {},
   "outputs": [],
   "source": [
    "entries = []\n",
    "entry_list = []\n",
    "paragraphs = report.paragraphs\n",
    "\n",
    "for para in paragraphs:\n",
    "    if 'w:br' not in para._element.xml: # 'w:br' is a tag to indicate page-breaks\n",
    "        entry_list.append(para.text)\n",
    "    else:\n",
    "        if \"\\n\".join(entry_list):\n",
    "            entries.append(\"\\n\".join(entry_list))\n",
    "            entry_list = []\n",
    "entries.append(\"\".join(entry_list))\n",
    "\n",
    "assert len(entries) > 0, \"No entries found\"\n",
    "print(f\"Found {len(entries)} entries in {fpath_raw_local}\")"
   ]
  },
  {
   "cell_type": "markdown",
   "metadata": {},
   "source": [
    "## Writing to files "
   ]
  },
  {
   "cell_type": "code",
   "execution_count": null,
   "metadata": {},
   "outputs": [],
   "source": [
    "fs = LocalFileSystem()\n",
    "fparent = f'data/entries/{consultant_name}/'\n",
    "fs.makedirs(fparent, exist_ok=True)\n",
    "print('Writing entries...')\n",
    "for entry_num, entry in enumerate(entries):\n",
    "    fentry = f'{fparent}/{str(entry_num).zfill(3)}.txt'\n",
    "    print(f\"\\t{fentry}\")\n",
    "    fs.write_text(fentry, entry, encoding='utf-8') if entry else None"
   ]
  }
 ],
 "metadata": {
  "kernelspec": {
   "display_name": "consulting-analysis",
   "language": "python",
   "name": "python3"
  },
  "language_info": {
   "codemirror_mode": {
    "name": "ipython",
    "version": 3
   },
   "file_extension": ".py",
   "mimetype": "text/x-python",
   "name": "python",
   "nbconvert_exporter": "python",
   "pygments_lexer": "ipython3",
   "version": "3.12.4"
  }
 },
 "nbformat": 4,
 "nbformat_minor": 2
}
