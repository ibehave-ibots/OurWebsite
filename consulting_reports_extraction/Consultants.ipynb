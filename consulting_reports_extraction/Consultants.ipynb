{
 "cells": [
  {
   "cell_type": "code",
   "execution_count": 2,
   "metadata": {},
   "outputs": [],
   "source": [
    "%load_ext autoreload\n",
    "%autoreload 2"
   ]
  },
  {
   "cell_type": "code",
   "execution_count": 3,
   "metadata": {},
   "outputs": [],
   "source": [
    "from dotenv import load_dotenv\n",
    "import os\n",
    "from webdav4.fsspec import WebdavFileSystem\n",
    "from pathlib import Path\n",
    "import yaml"
   ]
  },
  {
   "cell_type": "markdown",
   "metadata": {},
   "source": [
    "## Connect to Sciebo"
   ]
  },
  {
   "cell_type": "code",
   "execution_count": 4,
   "metadata": {},
   "outputs": [],
   "source": [
    "load_dotenv()\n",
    "USR = os.getenv('REPORT_USR')\n",
    "PWD = os.getenv('REPORT_PWD')"
   ]
  },
  {
   "cell_type": "markdown",
   "metadata": {},
   "source": [
    "## Accessing reports of consultants"
   ]
  },
  {
   "cell_type": "code",
   "execution_count": 5,
   "metadata": {},
   "outputs": [
    {
     "name": "stdout",
     "output_type": "stream",
     "text": [
      "3 reports found and the names of consultants are: ['mohammad', 'nick', 'sangeetha']\n"
     ]
    }
   ],
   "source": [
    "fs = WebdavFileSystem(\"https://uni-bonn.sciebo.de/public.php/webdav\", auth=(USR, PWD))\n",
    "reports = fs.ls('/', detail=False)\n",
    "assert len(reports) >0, \"No reports found!\"\n",
    "consultants = [Path(report).stem for report in reports]\n",
    "print(f'{len(reports)} reports found and the names of consultants are: {consultants}')"
   ]
  },
  {
   "cell_type": "markdown",
   "metadata": {},
   "source": [
    "## Creating data directory if it does not exist"
   ]
  },
  {
   "cell_type": "code",
   "execution_count": 6,
   "metadata": {},
   "outputs": [],
   "source": [
    "os.makedirs('data/', exist_ok=True)"
   ]
  },
  {
   "cell_type": "markdown",
   "metadata": {},
   "source": [
    "## Reading from data/consultants.txt if it exists"
   ]
  },
  {
   "cell_type": "code",
   "execution_count": 8,
   "metadata": {},
   "outputs": [
    {
     "data": {
      "text/plain": [
       "{'mohammad': {'hash': '', 'download': 1},\n",
       " 'nick': {'hash': '', 'download': 1},\n",
       " 'sangeetha': {'hash': '', 'download': 1}}"
      ]
     },
     "execution_count": 8,
     "metadata": {},
     "output_type": "execute_result"
    }
   ],
   "source": [
    "f_consultants = 'data/consultants.yaml'\n",
    "if Path(f_consultants).exists():\n",
    "    with open(f_consultants, 'r') as f:\n",
    "        consultant_file = yaml.safe_load(f)\n",
    "else:\n",
    "    consultant_file = {}\n",
    "    for r,c in zip(reports, consultants):\n",
    "        consultant_file[c] = {'hash':'', 'download': 1}\n",
    "consultant_file"
   ]
  },
  {
   "cell_type": "markdown",
   "metadata": {},
   "source": [
    "## Updating data/consultants.yaml if remote file has changed"
   ]
  },
  {
   "cell_type": "code",
   "execution_count": 9,
   "metadata": {},
   "outputs": [
    {
     "name": "stdout",
     "output_type": "stream",
     "text": [
      "mohammad.docx has changed on remote. Updating hash\n",
      "nick.docx has changed on remote. Updating hash\n",
      "sangeetha.docx has changed on remote. Updating hash\n"
     ]
    }
   ],
   "source": [
    "ukey = lambda r: fs.ukey(r)\n",
    "for r, (k, v) in zip(reports, consultant_file.items()):\n",
    "    if ukey(r) != v['hash']:\n",
    "        print(f\"{r} has changed on remote. Updating hash\")\n",
    "        consultant_file[k]['hash'] = ukey(r)\n",
    "        consultant_file[k]['download'] = 1\n",
    "        continue\n",
    "    print(f\"{r} has not changed on remote.\")\n",
    "    consultant_file[k]['download'] = 0\n",
    "\n",
    "with open(f_consultants, 'w') as f:\n",
    "    yaml.dump(consultant_file, f, default_flow_style=False)"
   ]
  }
 ],
 "metadata": {
  "kernelspec": {
   "display_name": "consulting-analysis",
   "language": "python",
   "name": "python3"
  },
  "language_info": {
   "codemirror_mode": {
    "name": "ipython",
    "version": 3
   },
   "file_extension": ".py",
   "mimetype": "text/x-python",
   "name": "python",
   "nbconvert_exporter": "python",
   "pygments_lexer": "ipython3",
   "version": "3.12.4"
  }
 },
 "nbformat": 4,
 "nbformat_minor": 2
}
