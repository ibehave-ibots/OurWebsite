{
 "cells": [
  {
   "cell_type": "code",
   "execution_count": 1,
   "metadata": {},
   "outputs": [],
   "source": [
    "%load_ext autoreload\n",
    "%autoreload 2"
   ]
  },
  {
   "cell_type": "code",
   "execution_count": 2,
   "metadata": {
    "tags": [
     "parameters"
    ]
   },
   "outputs": [],
   "source": [
    "# setting parameters for papermill\n",
    "\n",
    "consultant_name = 'sangeetha'"
   ]
  },
  {
   "cell_type": "code",
   "execution_count": 3,
   "metadata": {},
   "outputs": [],
   "source": [
    "import os\n",
    "from fsspec.implementations.local import LocalFileSystem"
   ]
  },
  {
   "cell_type": "code",
   "execution_count": 4,
   "metadata": {},
   "outputs": [],
   "source": [
    "data_dir = os.path.abspath('..')"
   ]
  },
  {
   "cell_type": "markdown",
   "metadata": {},
   "source": [
    "## Getting file paths to entries"
   ]
  },
  {
   "cell_type": "code",
   "execution_count": 9,
   "metadata": {},
   "outputs": [
    {
     "name": "stdout",
     "output_type": "stream",
     "text": [
      "Found 48 entries from sangeetha\n"
     ]
    }
   ],
   "source": [
    "fs = LocalFileSystem()\n",
    "fparent = os.path.join(data_dir, f'data/entries/{consultant_name}/')\n",
    "entry_files = fs.ls(fparent, detail=False)\n",
    "assert len(entry_files) > 0, 'No files found'\n",
    "print(f'Found {len(entry_files)} entries from {consultant_name}')"
   ]
  },
  {
   "cell_type": "markdown",
   "metadata": {},
   "source": [
    "## Transform to dictionary"
   ]
  },
  {
   "cell_type": "code",
   "execution_count": 16,
   "metadata": {},
   "outputs": [
    {
     "data": {
      "text/plain": [
       "'Type: short\\nScholar: Moritz Haustein\\nDate: 2024-05-01\\nTopic:  Hi, we recently started a collaboration with a research group in Würzburg and need to transfer data files (mostly marker annotations for videos and other metadata) forth and back. I thought about a cloud solution with synchronization option for both sides. So, I would like to get your ideas on what service/solution would be best for us. Looking forward to meet you. Moritz\\nContent: \\nCloud Storage Options: The main goal of the meeting was to identify an appropriate cloud storage solution that meets the data sharing and collaboration needs effectively.\\nPreferred Solution: Preference is to opt for a solution that is both free and user-friendly.\\nData Sharing and Permissions: Currently, there is a requirement to share around 15GB of data with another group. The focus is on enabling the second group to download existing data and contribute new content to the same database.\\nExplored Storage Platforms: The platforms discussed included Mega, Dropbox, Google Drive, and Sciebo.\\nUseful link for Sciebo: https://wwuit-sys.zivgitlabpages.uni-\\nmuenster.de/sciebo/docs/teilen/projektboxen/\\nhttps://hochschulcloud.nrw/de/hilfe/windows/synchronisation.html\\nA table consolidating cloud storage options was sent to Moritz post-meeting'"
      ]
     },
     "execution_count": 16,
     "metadata": {},
     "output_type": "execute_result"
    }
   ],
   "source": [
    "entry_file = entry_files[0]\n",
    "\n",
    "open(entry_file, 'r').read()"
   ]
  },
  {
   "cell_type": "code",
   "execution_count": null,
   "metadata": {},
   "outputs": [],
   "source": []
  }
 ],
 "metadata": {
  "kernelspec": {
   "display_name": "consulting-analysis",
   "language": "python",
   "name": "python3"
  },
  "language_info": {
   "codemirror_mode": {
    "name": "ipython",
    "version": 3
   },
   "file_extension": ".py",
   "mimetype": "text/x-python",
   "name": "python",
   "nbconvert_exporter": "python",
   "pygments_lexer": "ipython3",
   "version": "3.12.4"
  }
 },
 "nbformat": 4,
 "nbformat_minor": 2
}
