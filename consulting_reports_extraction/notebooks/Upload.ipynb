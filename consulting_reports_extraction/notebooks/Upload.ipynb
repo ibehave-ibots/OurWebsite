{
 "cells": [
  {
   "cell_type": "code",
   "execution_count": 27,
   "metadata": {},
   "outputs": [
    {
     "name": "stdout",
     "output_type": "stream",
     "text": [
      "The autoreload extension is already loaded. To reload it, use:\n",
      "  %reload_ext autoreload\n"
     ]
    }
   ],
   "source": [
    "%load_ext autoreload\n",
    "%autoreload 2"
   ]
  },
  {
   "cell_type": "code",
   "execution_count": 28,
   "metadata": {
    "tags": [
     "parameters"
    ]
   },
   "outputs": [],
   "source": [
    "# setting parameters for papermill\n",
    "\n",
    "consultant_name = 'sangeetha'"
   ]
  },
  {
   "cell_type": "code",
   "execution_count": 29,
   "metadata": {},
   "outputs": [],
   "source": [
    "import os\n",
    "from fsspec.implementations.local import LocalFileSystem\n",
    "import re\n",
    "import dateutil.parser as parser\n",
    "from ibots_db.schema import ConsultingReport\n",
    "from ibots_db import update_all, load"
   ]
  },
  {
   "cell_type": "code",
   "execution_count": 30,
   "metadata": {},
   "outputs": [],
   "source": [
    "data_dir = os.path.abspath('..')"
   ]
  },
  {
   "cell_type": "markdown",
   "metadata": {},
   "source": [
    "## Getting file paths to entries"
   ]
  },
  {
   "cell_type": "code",
   "execution_count": 31,
   "metadata": {},
   "outputs": [
    {
     "name": "stdout",
     "output_type": "stream",
     "text": [
      "Found 45 entries from sangeetha\n"
     ]
    }
   ],
   "source": [
    "fs = LocalFileSystem()\n",
    "fparent = os.path.join(data_dir, f'data/entries/{consultant_name}/')\n",
    "entry_files = fs.ls(fparent, detail=False)\n",
    "assert len(entry_files) > 0, 'No files found'\n",
    "print(f'Found {len(entry_files)} entries from {consultant_name}')"
   ]
  },
  {
   "cell_type": "markdown",
   "metadata": {},
   "source": [
    "## Transform to dictionary"
   ]
  },
  {
   "cell_type": "code",
   "execution_count": 32,
   "metadata": {},
   "outputs": [
    {
     "name": "stdout",
     "output_type": "stream",
     "text": [
      "Getting dictionary from c:/Users/sangeetha/OurWebsite/consulting_reports_extraction/data/entries/sangeetha/000.txt\n",
      "Getting dictionary from c:/Users/sangeetha/OurWebsite/consulting_reports_extraction/data/entries/sangeetha/001.txt\n",
      "Getting dictionary from c:/Users/sangeetha/OurWebsite/consulting_reports_extraction/data/entries/sangeetha/002.txt\n",
      "Getting dictionary from c:/Users/sangeetha/OurWebsite/consulting_reports_extraction/data/entries/sangeetha/003.txt\n",
      "Getting dictionary from c:/Users/sangeetha/OurWebsite/consulting_reports_extraction/data/entries/sangeetha/004.txt\n",
      "Getting dictionary from c:/Users/sangeetha/OurWebsite/consulting_reports_extraction/data/entries/sangeetha/005.txt\n",
      "Getting dictionary from c:/Users/sangeetha/OurWebsite/consulting_reports_extraction/data/entries/sangeetha/006.txt\n",
      "Getting dictionary from c:/Users/sangeetha/OurWebsite/consulting_reports_extraction/data/entries/sangeetha/007.txt\n",
      "Getting dictionary from c:/Users/sangeetha/OurWebsite/consulting_reports_extraction/data/entries/sangeetha/008.txt\n",
      "Getting dictionary from c:/Users/sangeetha/OurWebsite/consulting_reports_extraction/data/entries/sangeetha/009.txt\n",
      "Getting dictionary from c:/Users/sangeetha/OurWebsite/consulting_reports_extraction/data/entries/sangeetha/010.txt\n",
      "Getting dictionary from c:/Users/sangeetha/OurWebsite/consulting_reports_extraction/data/entries/sangeetha/011.txt\n",
      "Getting dictionary from c:/Users/sangeetha/OurWebsite/consulting_reports_extraction/data/entries/sangeetha/013.txt\n",
      "Getting dictionary from c:/Users/sangeetha/OurWebsite/consulting_reports_extraction/data/entries/sangeetha/014.txt\n",
      "Getting dictionary from c:/Users/sangeetha/OurWebsite/consulting_reports_extraction/data/entries/sangeetha/015.txt\n",
      "Getting dictionary from c:/Users/sangeetha/OurWebsite/consulting_reports_extraction/data/entries/sangeetha/016.txt\n",
      "Getting dictionary from c:/Users/sangeetha/OurWebsite/consulting_reports_extraction/data/entries/sangeetha/017.txt\n",
      "Getting dictionary from c:/Users/sangeetha/OurWebsite/consulting_reports_extraction/data/entries/sangeetha/018.txt\n",
      "Getting dictionary from c:/Users/sangeetha/OurWebsite/consulting_reports_extraction/data/entries/sangeetha/019.txt\n",
      "Getting dictionary from c:/Users/sangeetha/OurWebsite/consulting_reports_extraction/data/entries/sangeetha/020.txt\n",
      "Getting dictionary from c:/Users/sangeetha/OurWebsite/consulting_reports_extraction/data/entries/sangeetha/021.txt\n",
      "Getting dictionary from c:/Users/sangeetha/OurWebsite/consulting_reports_extraction/data/entries/sangeetha/022.txt\n",
      "Getting dictionary from c:/Users/sangeetha/OurWebsite/consulting_reports_extraction/data/entries/sangeetha/023.txt\n",
      "Getting dictionary from c:/Users/sangeetha/OurWebsite/consulting_reports_extraction/data/entries/sangeetha/024.txt\n",
      "Getting dictionary from c:/Users/sangeetha/OurWebsite/consulting_reports_extraction/data/entries/sangeetha/025.txt\n",
      "Getting dictionary from c:/Users/sangeetha/OurWebsite/consulting_reports_extraction/data/entries/sangeetha/026.txt\n",
      "Getting dictionary from c:/Users/sangeetha/OurWebsite/consulting_reports_extraction/data/entries/sangeetha/027.txt\n",
      "Getting dictionary from c:/Users/sangeetha/OurWebsite/consulting_reports_extraction/data/entries/sangeetha/028.txt\n",
      "Getting dictionary from c:/Users/sangeetha/OurWebsite/consulting_reports_extraction/data/entries/sangeetha/029.txt\n",
      "Getting dictionary from c:/Users/sangeetha/OurWebsite/consulting_reports_extraction/data/entries/sangeetha/030.txt\n",
      "Getting dictionary from c:/Users/sangeetha/OurWebsite/consulting_reports_extraction/data/entries/sangeetha/031.txt\n",
      "Getting dictionary from c:/Users/sangeetha/OurWebsite/consulting_reports_extraction/data/entries/sangeetha/032.txt\n",
      "Getting dictionary from c:/Users/sangeetha/OurWebsite/consulting_reports_extraction/data/entries/sangeetha/033.txt\n",
      "Getting dictionary from c:/Users/sangeetha/OurWebsite/consulting_reports_extraction/data/entries/sangeetha/034.txt\n",
      "Getting dictionary from c:/Users/sangeetha/OurWebsite/consulting_reports_extraction/data/entries/sangeetha/035.txt\n",
      "Getting dictionary from c:/Users/sangeetha/OurWebsite/consulting_reports_extraction/data/entries/sangeetha/036.txt\n",
      "Getting dictionary from c:/Users/sangeetha/OurWebsite/consulting_reports_extraction/data/entries/sangeetha/037.txt\n",
      "Getting dictionary from c:/Users/sangeetha/OurWebsite/consulting_reports_extraction/data/entries/sangeetha/038.txt\n",
      "Getting dictionary from c:/Users/sangeetha/OurWebsite/consulting_reports_extraction/data/entries/sangeetha/039.txt\n",
      "Getting dictionary from c:/Users/sangeetha/OurWebsite/consulting_reports_extraction/data/entries/sangeetha/040.txt\n",
      "Getting dictionary from c:/Users/sangeetha/OurWebsite/consulting_reports_extraction/data/entries/sangeetha/041.txt\n",
      "Getting dictionary from c:/Users/sangeetha/OurWebsite/consulting_reports_extraction/data/entries/sangeetha/043.txt\n",
      "Getting dictionary from c:/Users/sangeetha/OurWebsite/consulting_reports_extraction/data/entries/sangeetha/044.txt\n",
      "Getting dictionary from c:/Users/sangeetha/OurWebsite/consulting_reports_extraction/data/entries/sangeetha/045.txt\n",
      "Getting dictionary from c:/Users/sangeetha/OurWebsite/consulting_reports_extraction/data/entries/sangeetha/046.txt\n"
     ]
    }
   ],
   "source": [
    "fun_split = lambda s: re.split(r'(Type:|Scholar:|Topic:|Date:|Content:)', s)\n",
    "sessions = []\n",
    "\n",
    "for entry_ind, entry_file in enumerate(entry_files):\n",
    "    print(f\"Getting dictionary from {entry_file}\")\n",
    "    entry_text = open(entry_file, 'r').read()\n",
    "    session = {entry_splits[i].lower().strip(':'): entry_splits[i + 1].strip() for entry_splits in [fun_split(entry_text)] for i in range(1, len(entry_splits), 2)}\n",
    "    session['consultant'] = consultant_name\n",
    "    session['date'] = parser.parse(session['date']).strftime('%Y-%m-%d')\n",
    "    sessions.append(session)"
   ]
  }
 ],
 "metadata": {
  "kernelspec": {
   "display_name": "consulting-analysis",
   "language": "python",
   "name": "python3"
  },
  "language_info": {
   "codemirror_mode": {
    "name": "ipython",
    "version": 3
   },
   "file_extension": ".py",
   "mimetype": "text/x-python",
   "name": "python",
   "nbconvert_exporter": "python",
   "pygments_lexer": "ipython3",
   "version": "3.12.4"
  }
 },
 "nbformat": 4,
 "nbformat_minor": 2
}
