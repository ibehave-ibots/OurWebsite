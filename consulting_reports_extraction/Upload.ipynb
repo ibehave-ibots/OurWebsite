{
 "cells": [
  {
   "cell_type": "code",
   "execution_count": 1,
   "metadata": {},
   "outputs": [],
   "source": [
    "%load_ext autoreload\n",
    "%autoreload 2"
   ]
  },
  {
   "cell_type": "code",
   "execution_count": 2,
   "metadata": {
    "tags": [
     "parameters"
    ]
   },
   "outputs": [],
   "source": [
    "# setting parameters for papermill\n",
    "\n",
    "consultant_name = 'nick'"
   ]
  },
  {
   "cell_type": "code",
   "execution_count": 3,
   "metadata": {},
   "outputs": [],
   "source": [
    "from fsspec.implementations.local import LocalFileSystem\n",
    "import re\n",
    "import os\n",
    "import sys\n",
    "import dateutil.parser as parser\n",
    "from ibots_db.schema import ConsultingReport\n",
    "from ibots_db import update_all, load\n",
    "from pathlib import Path"
   ]
  },
  {
   "cell_type": "markdown",
   "metadata": {},
   "source": [
    "## Getting file paths to entries"
   ]
  },
  {
   "cell_type": "code",
   "execution_count": 4,
   "metadata": {},
   "outputs": [
    {
     "name": "stdout",
     "output_type": "stream",
     "text": [
      "Found 55 entries from nick\n"
     ]
    }
   ],
   "source": [
    "fs = LocalFileSystem()\n",
    "fparent = f'data/entries/{consultant_name}/'\n",
    "entry_files = list(Path(fparent).glob('*.txt'))\n",
    "assert len(entry_files) > 0, 'No files found'\n",
    "print(f'Found {len(entry_files)} entries from {consultant_name}')\n"
   ]
  },
  {
   "cell_type": "markdown",
   "metadata": {},
   "source": [
    "## Transform to dictionary"
   ]
  },
  {
   "cell_type": "code",
   "execution_count": 5,
   "metadata": {},
   "outputs": [
    {
     "name": "stdout",
     "output_type": "stream",
     "text": [
      "Getting dictionary from data\\entries\\nick\\000.txt\n",
      "Getting dictionary from data\\entries\\nick\\002.txt\n",
      "Getting dictionary from data\\entries\\nick\\003.txt\n",
      "Getting dictionary from data\\entries\\nick\\004.txt\n",
      "Getting dictionary from data\\entries\\nick\\005.txt\n",
      "Getting dictionary from data\\entries\\nick\\006.txt\n",
      "Getting dictionary from data\\entries\\nick\\007.txt\n",
      "Getting dictionary from data\\entries\\nick\\008.txt\n",
      "Getting dictionary from data\\entries\\nick\\009.txt\n",
      "Getting dictionary from data\\entries\\nick\\010.txt\n",
      "Getting dictionary from data\\entries\\nick\\011.txt\n",
      "Getting dictionary from data\\entries\\nick\\012.txt\n",
      "Getting dictionary from data\\entries\\nick\\013.txt\n",
      "Getting dictionary from data\\entries\\nick\\014.txt\n",
      "Getting dictionary from data\\entries\\nick\\015.txt\n",
      "Getting dictionary from data\\entries\\nick\\016.txt\n",
      "Getting dictionary from data\\entries\\nick\\017.txt\n",
      "Getting dictionary from data\\entries\\nick\\018.txt\n",
      "Getting dictionary from data\\entries\\nick\\019.txt\n",
      "Getting dictionary from data\\entries\\nick\\020.txt\n",
      "Getting dictionary from data\\entries\\nick\\021.txt\n",
      "Getting dictionary from data\\entries\\nick\\022.txt\n",
      "Getting dictionary from data\\entries\\nick\\023.txt\n",
      "Getting dictionary from data\\entries\\nick\\024.txt\n",
      "Getting dictionary from data\\entries\\nick\\025.txt\n",
      "Getting dictionary from data\\entries\\nick\\026.txt\n",
      "Getting dictionary from data\\entries\\nick\\027.txt\n",
      "Getting dictionary from data\\entries\\nick\\028.txt\n",
      "Getting dictionary from data\\entries\\nick\\029.txt\n",
      "Getting dictionary from data\\entries\\nick\\030.txt\n",
      "Getting dictionary from data\\entries\\nick\\031.txt\n",
      "Getting dictionary from data\\entries\\nick\\032.txt\n",
      "Getting dictionary from data\\entries\\nick\\033.txt\n",
      "Getting dictionary from data\\entries\\nick\\034.txt\n",
      "Getting dictionary from data\\entries\\nick\\035.txt\n",
      "Getting dictionary from data\\entries\\nick\\036.txt\n",
      "Getting dictionary from data\\entries\\nick\\037.txt\n",
      "Getting dictionary from data\\entries\\nick\\038.txt\n",
      "Getting dictionary from data\\entries\\nick\\039.txt\n",
      "Getting dictionary from data\\entries\\nick\\040.txt\n",
      "Getting dictionary from data\\entries\\nick\\041.txt\n",
      "Getting dictionary from data\\entries\\nick\\042.txt\n",
      "Getting dictionary from data\\entries\\nick\\043.txt\n",
      "Getting dictionary from data\\entries\\nick\\044.txt\n",
      "Getting dictionary from data\\entries\\nick\\045.txt\n",
      "Getting dictionary from data\\entries\\nick\\046.txt\n",
      "Getting dictionary from data\\entries\\nick\\047.txt\n",
      "Getting dictionary from data\\entries\\nick\\048.txt\n",
      "Getting dictionary from data\\entries\\nick\\049.txt\n",
      "Getting dictionary from data\\entries\\nick\\050.txt\n",
      "Getting dictionary from data\\entries\\nick\\051.txt\n",
      "Getting dictionary from data\\entries\\nick\\052.txt\n",
      "Getting dictionary from data\\entries\\nick\\053.txt\n",
      "Getting dictionary from data\\entries\\nick\\054.txt\n",
      "Getting dictionary from data\\entries\\nick\\055.txt\n"
     ]
    }
   ],
   "source": [
    "fun_split = lambda s: re.split(r'(Type:|Scholar:|Topic:|Date:|Content:)', s)\n",
    "fun_key_add = lambda d: {key: d.get(key, '') for key in ['topic', 'scholar', 'date', 'content', 'type']}\n",
    "\n",
    "sessions = []\n",
    "\n",
    "for entry_ind, entry_file in enumerate(entry_files):\n",
    "    session = {'type':'', 'date':'', 'topic':'', 'content':'', 'scholar':''}\n",
    "    print(f\"Getting dictionary from {entry_file}\")\n",
    "    entry_text = open(entry_file, 'r', encoding='utf-8').read()\n",
    "    session = {entry_splits[i].lower().strip(':'): entry_splits[i + 1].strip() for entry_splits in [fun_split(entry_text)] for i in range(1, len(entry_splits), 2)}\n",
    "    session['date'] = parser.parse(session['date']).strftime('%Y-%m-%d')\n",
    "    session = fun_key_add(session)\n",
    "    session['consultant'] = consultant_name\n",
    "    sessions.append(session)"
   ]
  },
  {
   "cell_type": "markdown",
   "metadata": {},
   "source": [
    "## Validating entries"
   ]
  },
  {
   "cell_type": "code",
   "execution_count": 7,
   "metadata": {},
   "outputs": [],
   "source": [
    "entries = [ConsultingReport(**entry) for entry in sessions]"
   ]
  }
 ],
 "metadata": {
  "kernelspec": {
   "display_name": "consulting-analysis",
   "language": "python",
   "name": "python3"
  },
  "language_info": {
   "codemirror_mode": {
    "name": "ipython",
    "version": 3
   },
   "file_extension": ".py",
   "mimetype": "text/x-python",
   "name": "python",
   "nbconvert_exporter": "python",
   "pygments_lexer": "ipython3",
   "version": "3.12.4"
  }
 },
 "nbformat": 4,
 "nbformat_minor": 2
}
