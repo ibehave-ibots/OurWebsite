{
 "cells": [
  {
   "cell_type": "code",
   "execution_count": 1,
   "metadata": {},
   "outputs": [],
   "source": [
    "%load_ext autoreload\n",
    "%autoreload 2"
   ]
  },
  {
   "cell_type": "code",
   "execution_count": 2,
   "metadata": {
    "tags": [
     "parameters"
    ]
   },
   "outputs": [],
   "source": [
    "# setting parameters for papermill\n",
    "\n",
    "consultant_name = 'sangeetha'\n",
    "entry_num = '000'"
   ]
  },
  {
   "cell_type": "code",
   "execution_count": 3,
   "metadata": {},
   "outputs": [],
   "source": [
    "from fsspec.implementations.local import LocalFileSystem\n",
    "import re\n",
    "import os\n",
    "import sys\n",
    "import dateutil.parser as parser\n",
    "from ibots_db.schema import ConsultingReport\n",
    "from ibots_db import update_all, load\n",
    "from pathlib import Path"
   ]
  },
  {
   "cell_type": "markdown",
   "metadata": {},
   "source": [
    "## Getting file paths to entries"
   ]
  },
  {
   "cell_type": "code",
   "execution_count": 18,
   "metadata": {},
   "outputs": [
    {
     "name": "stdout",
     "output_type": "stream",
     "text": [
      "data/entries/sangeetha/000.txt\n",
      "data/entries/sangeetha/000.txt\n"
     ]
    }
   ],
   "source": [
    "fs = LocalFileSystem()\n",
    "entry_file = f'data/entries/{consultant_name}/{entry_num}.txt'\n",
    "assert Path(entry_file).exists(), f\"Please make sure {entry_file} is available\"\n",
    "print(entry_file)"
   ]
  },
  {
   "cell_type": "markdown",
   "metadata": {},
   "source": [
    "## Transform to dictionary"
   ]
  },
  {
   "cell_type": "code",
   "execution_count": 16,
   "metadata": {},
   "outputs": [
    {
     "name": "stdout",
     "output_type": "stream",
     "text": [
      "Getting dictionary from data/entries/sangeetha/000.txt\n"
     ]
    }
   ],
   "source": [
    "fun_split = lambda s: re.split(r'(Type:|Scholar:|Topic:|Date:|Content:)', s)\n",
    "fun_key_add = lambda d: {key: d.get(key, '') for key in ['topic', 'scholar', 'date', 'content', 'type']}\n",
    "\n",
    "entry = {'type':'', 'date':'', 'topic':'', 'content':'', 'scholar':''}\n",
    "print(f\"Getting dictionary from {entry_file}\")\n",
    "entry_text = open(entry_file, 'r', encoding='utf-8').read()\n",
    "entry = {entry_splits[i].lower().strip(':'): entry_splits[i + 1].strip() for entry_splits in [fun_split(entry_text)] for i in range(1, len(entry_splits), 2)}\n",
    "entry['date'] = parser.parse(entry['date']).strftime('%Y-%m-%d')\n",
    "entry = fun_key_add(entry)\n",
    "entry['consultant'] = consultant_name"
   ]
  },
  {
   "cell_type": "markdown",
   "metadata": {},
   "source": [
    "## Validating entries"
   ]
  },
  {
   "cell_type": "code",
   "execution_count": 17,
   "metadata": {},
   "outputs": [],
   "source": [
    "assert ConsultingReport(**entry), f\"Could not validate entry from {entry_file}\""
   ]
  }
 ],
 "metadata": {
  "kernelspec": {
   "display_name": "consulting-analysis",
   "language": "python",
   "name": "python3"
  },
  "language_info": {
   "codemirror_mode": {
    "name": "ipython",
    "version": 3
   },
   "file_extension": ".py",
   "mimetype": "text/x-python",
   "name": "python",
   "nbconvert_exporter": "python",
   "pygments_lexer": "ipython3",
   "version": "3.12.4"
  }
 },
 "nbformat": 4,
 "nbformat_minor": 2
}
