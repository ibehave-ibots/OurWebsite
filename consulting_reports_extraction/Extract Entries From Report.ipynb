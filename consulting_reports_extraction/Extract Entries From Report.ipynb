{
 "cells": [
  {
   "cell_type": "code",
   "execution_count": 1,
   "metadata": {},
   "outputs": [],
   "source": [
    "%load_ext autoreload\n",
    "%autoreload 2"
   ]
  },
  {
   "cell_type": "code",
   "execution_count": 2,
   "metadata": {},
   "outputs": [],
   "source": [
    "# setting parameters\n",
    "consultant_name = 'sangeetha'"
   ]
  },
  {
   "cell_type": "code",
   "execution_count": 9,
   "metadata": {},
   "outputs": [],
   "source": [
    "from docx import Document\n",
    "from pathlib import Path"
   ]
  },
  {
   "cell_type": "markdown",
   "metadata": {},
   "source": [
    "## Reading report (docx file) from local system"
   ]
  },
  {
   "cell_type": "code",
   "execution_count": 15,
   "metadata": {},
   "outputs": [
    {
     "name": "stdout",
     "output_type": "stream",
     "text": [
      "data/raw/sangeetha.docx found.\n",
      "data/raw/sangeetha.docx read successfully.\n"
     ]
    }
   ],
   "source": [
    "fpath_raw_local = f'data/raw/{consultant_name}.docx'\n",
    "assert Path(fpath_raw_local).exists()\n",
    "print(f'{fpath_raw_local} found.')\n",
    "report = Document(fpath_raw_local)\n",
    "assert len(report.paragraphs) > 0\n",
    "print(f'{fpath_raw_local} read successfully.')"
   ]
  },
  {
   "cell_type": "markdown",
   "metadata": {},
   "source": [
    "## Extract entries from report"
   ]
  },
  {
   "cell_type": "code",
   "execution_count": 34,
   "metadata": {},
   "outputs": [
    {
     "data": {
      "text/plain": [
       "48"
      ]
     },
     "execution_count": 34,
     "metadata": {},
     "output_type": "execute_result"
    }
   ],
   "source": [
    "entries = []\n",
    "entry_list = []\n",
    "paragraphs = report.paragraphs\n",
    "for para in paragraphs:\n",
    "    if not 'w:br' in para._element.xml:\n",
    "        entry_list.append(para.text)\n",
    "    else:\n",
    "        entry = \"\".join(entry_list)\n",
    "        entries.append(entry)\n",
    "        entry_list.clear()\n",
    "        entry = \"\"\n",
    "\n",
    "if entry_list:\n",
    "    entry = \"\".join(entry_list)\n",
    "    entries.append(entry)\n"
   ]
  }
 ],
 "metadata": {
  "kernelspec": {
   "display_name": "consulting-analysis",
   "language": "python",
   "name": "python3"
  },
  "language_info": {
   "codemirror_mode": {
    "name": "ipython",
    "version": 3
   },
   "file_extension": ".py",
   "mimetype": "text/x-python",
   "name": "python",
   "nbconvert_exporter": "python",
   "pygments_lexer": "ipython3",
   "version": "3.12.4"
  }
 },
 "nbformat": 4,
 "nbformat_minor": 2
}
